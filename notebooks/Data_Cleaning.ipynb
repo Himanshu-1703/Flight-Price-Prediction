{
 "cells": [
  {
   "cell_type": "markdown",
   "id": "e1282e6d-9013-472e-81f9-88ac5f4e8b17",
   "metadata": {},
   "source": [
    "# Import the Packages"
   ]
  },
  {
   "cell_type": "code",
   "execution_count": 1,
   "id": "ca078f57-24d5-45e3-b10a-d5f3a785478f",
   "metadata": {},
   "outputs": [],
   "source": [
    "import numpy as np\n",
    "\n",
    "import pandas as pd\n",
    "\n",
    "import matplotlib.pyplot as plt\n",
    "\n",
    "import seaborn as sns"
   ]
  },
  {
   "cell_type": "markdown",
   "id": "e5867e1f-f369-486e-ab6f-19900cbfdf4c",
   "metadata": {},
   "source": [
    "# Read the Data"
   ]
  },
  {
   "cell_type": "code",
   "execution_count": 2,
   "id": "14a33bc3-6b33-4949-8866-aa27b540bddf",
   "metadata": {},
   "outputs": [],
   "source": [
    "data_path = r\"D:\\Flight-Price-Prediction\\data\\flight_price.csv\"\n",
    "\n",
    "flights_df = pd.read_csv(data_path)"
   ]
  },
  {
   "cell_type": "code",
   "execution_count": 3,
   "id": "3d99b14f-82fe-47f1-b275-4342f152c97b",
   "metadata": {},
   "outputs": [
    {
     "data": {
      "text/html": [
       "<div>\n",
       "<style scoped>\n",
       "    .dataframe tbody tr th:only-of-type {\n",
       "        vertical-align: middle;\n",
       "    }\n",
       "\n",
       "    .dataframe tbody tr th {\n",
       "        vertical-align: top;\n",
       "    }\n",
       "\n",
       "    .dataframe thead th {\n",
       "        text-align: right;\n",
       "    }\n",
       "</style>\n",
       "<table border=\"1\" class=\"dataframe\">\n",
       "  <thead>\n",
       "    <tr style=\"text-align: right;\">\n",
       "      <th></th>\n",
       "      <th>Airline</th>\n",
       "      <th>Date_of_Journey</th>\n",
       "      <th>Source</th>\n",
       "      <th>Destination</th>\n",
       "      <th>Route</th>\n",
       "      <th>Dep_Time</th>\n",
       "      <th>Arrival_Time</th>\n",
       "      <th>Duration</th>\n",
       "      <th>Total_Stops</th>\n",
       "      <th>Additional_Info</th>\n",
       "      <th>Price</th>\n",
       "    </tr>\n",
       "  </thead>\n",
       "  <tbody>\n",
       "    <tr>\n",
       "      <th>0</th>\n",
       "      <td>IndiGo</td>\n",
       "      <td>24/03/2019</td>\n",
       "      <td>Banglore</td>\n",
       "      <td>New Delhi</td>\n",
       "      <td>BLR → DEL</td>\n",
       "      <td>22:20</td>\n",
       "      <td>01:10 22 Mar</td>\n",
       "      <td>2h 50m</td>\n",
       "      <td>non-stop</td>\n",
       "      <td>No info</td>\n",
       "      <td>3897</td>\n",
       "    </tr>\n",
       "    <tr>\n",
       "      <th>1</th>\n",
       "      <td>Air India</td>\n",
       "      <td>1/05/2019</td>\n",
       "      <td>Kolkata</td>\n",
       "      <td>Banglore</td>\n",
       "      <td>CCU → IXR → BBI → BLR</td>\n",
       "      <td>05:50</td>\n",
       "      <td>13:15</td>\n",
       "      <td>7h 25m</td>\n",
       "      <td>2 stops</td>\n",
       "      <td>No info</td>\n",
       "      <td>7662</td>\n",
       "    </tr>\n",
       "    <tr>\n",
       "      <th>2</th>\n",
       "      <td>Jet Airways</td>\n",
       "      <td>9/06/2019</td>\n",
       "      <td>Delhi</td>\n",
       "      <td>Cochin</td>\n",
       "      <td>DEL → LKO → BOM → COK</td>\n",
       "      <td>09:25</td>\n",
       "      <td>04:25 10 Jun</td>\n",
       "      <td>19h</td>\n",
       "      <td>2 stops</td>\n",
       "      <td>No info</td>\n",
       "      <td>13882</td>\n",
       "    </tr>\n",
       "    <tr>\n",
       "      <th>3</th>\n",
       "      <td>IndiGo</td>\n",
       "      <td>12/05/2019</td>\n",
       "      <td>Kolkata</td>\n",
       "      <td>Banglore</td>\n",
       "      <td>CCU → NAG → BLR</td>\n",
       "      <td>18:05</td>\n",
       "      <td>23:30</td>\n",
       "      <td>5h 25m</td>\n",
       "      <td>1 stop</td>\n",
       "      <td>No info</td>\n",
       "      <td>6218</td>\n",
       "    </tr>\n",
       "    <tr>\n",
       "      <th>4</th>\n",
       "      <td>IndiGo</td>\n",
       "      <td>01/03/2019</td>\n",
       "      <td>Banglore</td>\n",
       "      <td>New Delhi</td>\n",
       "      <td>BLR → NAG → DEL</td>\n",
       "      <td>16:50</td>\n",
       "      <td>21:35</td>\n",
       "      <td>4h 45m</td>\n",
       "      <td>1 stop</td>\n",
       "      <td>No info</td>\n",
       "      <td>13302</td>\n",
       "    </tr>\n",
       "  </tbody>\n",
       "</table>\n",
       "</div>"
      ],
      "text/plain": [
       "       Airline Date_of_Journey    Source Destination                  Route  \\\n",
       "0       IndiGo      24/03/2019  Banglore   New Delhi              BLR → DEL   \n",
       "1    Air India       1/05/2019   Kolkata    Banglore  CCU → IXR → BBI → BLR   \n",
       "2  Jet Airways       9/06/2019     Delhi      Cochin  DEL → LKO → BOM → COK   \n",
       "3       IndiGo      12/05/2019   Kolkata    Banglore        CCU → NAG → BLR   \n",
       "4       IndiGo      01/03/2019  Banglore   New Delhi        BLR → NAG → DEL   \n",
       "\n",
       "  Dep_Time  Arrival_Time Duration Total_Stops Additional_Info  Price  \n",
       "0    22:20  01:10 22 Mar   2h 50m    non-stop         No info   3897  \n",
       "1    05:50         13:15   7h 25m     2 stops         No info   7662  \n",
       "2    09:25  04:25 10 Jun      19h     2 stops         No info  13882  \n",
       "3    18:05         23:30   5h 25m      1 stop         No info   6218  \n",
       "4    16:50         21:35   4h 45m      1 stop         No info  13302  "
      ]
     },
     "execution_count": 3,
     "metadata": {},
     "output_type": "execute_result"
    }
   ],
   "source": [
    "flights_df.head()"
   ]
  },
  {
   "cell_type": "markdown",
   "id": "c49fd91c-c944-4141-8148-7d79ef6c1394",
   "metadata": {},
   "source": [
    "**Observations**:\n",
    "1. The `Airline` column has all the airline name categories.\n",
    "2. The `Date_of_journey` column has all the entries as dates with the day first format.\n",
    "3. The `Source` and `Destination` columns have city names and is categorical in nature.\n",
    "4. The `Route` column marks the route of all the flights with information of the stops included along with it.\n",
    "5. The `Dep Time` and `Arrival_Time` columns need some cleaning as they appear mixed types with time and date information.\n",
    "6. The `Duration` column has the flight duration in both hours and minutes and has to be converted in a sinle format for better interpretation.\n",
    "7. The `Total_Stops` is also categorical in natures and has values of total stops in text and should be converted to integer marking the number of stops the flight takes between its complete route.\n",
    "8. The `Addtitional_info` column has to be investigated further.\n",
    "9. The `Price` column is the target column and has price as integers."
   ]
  },
  {
   "cell_type": "code",
   "execution_count": 4,
   "id": "8962510e-184d-4e55-9755-949793be96a7",
   "metadata": {},
   "outputs": [
    {
     "name": "stdout",
     "output_type": "stream",
     "text": [
      "The shape of the flights data has 10683 rows and 11 columns\n"
     ]
    }
   ],
   "source": [
    "print(f'The shape of the flights data has {flights_df.shape[0]} rows and {flights_df.shape[1]} columns')"
   ]
  },
  {
   "cell_type": "code",
   "execution_count": 5,
   "id": "8cf351aa-5f65-4134-8c3b-0de4d73b6258",
   "metadata": {},
   "outputs": [
    {
     "data": {
      "text/plain": [
       "Index(['Airline', 'Date_of_Journey', 'Source', 'Destination', 'Route',\n",
       "       'Dep_Time', 'Arrival_Time', 'Duration', 'Total_Stops',\n",
       "       'Additional_Info', 'Price'],\n",
       "      dtype='object')"
      ]
     },
     "execution_count": 5,
     "metadata": {},
     "output_type": "execute_result"
    }
   ],
   "source": [
    "flights_df.columns"
   ]
  },
  {
   "cell_type": "code",
   "execution_count": 6,
   "id": "970d6042-9176-418a-9e56-39ef743c9435",
   "metadata": {},
   "outputs": [
    {
     "data": {
      "text/html": [
       "<div>\n",
       "<style scoped>\n",
       "    .dataframe tbody tr th:only-of-type {\n",
       "        vertical-align: middle;\n",
       "    }\n",
       "\n",
       "    .dataframe tbody tr th {\n",
       "        vertical-align: top;\n",
       "    }\n",
       "\n",
       "    .dataframe thead th {\n",
       "        text-align: right;\n",
       "    }\n",
       "</style>\n",
       "<table border=\"1\" class=\"dataframe\">\n",
       "  <thead>\n",
       "    <tr style=\"text-align: right;\">\n",
       "      <th></th>\n",
       "      <th>Airline</th>\n",
       "      <th>Date_of_Journey</th>\n",
       "      <th>Source</th>\n",
       "      <th>Destination</th>\n",
       "      <th>Route</th>\n",
       "      <th>Dep_Time</th>\n",
       "      <th>Arrival_Time</th>\n",
       "      <th>Duration</th>\n",
       "      <th>Total_Stops</th>\n",
       "      <th>Additional_Info</th>\n",
       "      <th>Price</th>\n",
       "    </tr>\n",
       "  </thead>\n",
       "  <tbody>\n",
       "    <tr>\n",
       "      <th>6985</th>\n",
       "      <td>Jet Airways</td>\n",
       "      <td>9/06/2019</td>\n",
       "      <td>Delhi</td>\n",
       "      <td>Cochin</td>\n",
       "      <td>DEL → IDR → BOM → COK</td>\n",
       "      <td>09:35</td>\n",
       "      <td>04:25 10 Jun</td>\n",
       "      <td>18h 50m</td>\n",
       "      <td>2 stops</td>\n",
       "      <td>No info</td>\n",
       "      <td>13292</td>\n",
       "    </tr>\n",
       "    <tr>\n",
       "      <th>10402</th>\n",
       "      <td>Jet Airways</td>\n",
       "      <td>12/06/2019</td>\n",
       "      <td>Kolkata</td>\n",
       "      <td>Banglore</td>\n",
       "      <td>CCU → BOM → BLR</td>\n",
       "      <td>06:30</td>\n",
       "      <td>18:15</td>\n",
       "      <td>11h 45m</td>\n",
       "      <td>1 stop</td>\n",
       "      <td>In-flight meal not included</td>\n",
       "      <td>9899</td>\n",
       "    </tr>\n",
       "    <tr>\n",
       "      <th>1081</th>\n",
       "      <td>Jet Airways</td>\n",
       "      <td>12/06/2019</td>\n",
       "      <td>Delhi</td>\n",
       "      <td>Cochin</td>\n",
       "      <td>DEL → BOM → COK</td>\n",
       "      <td>21:50</td>\n",
       "      <td>04:25 13 Jun</td>\n",
       "      <td>6h 35m</td>\n",
       "      <td>1 stop</td>\n",
       "      <td>In-flight meal not included</td>\n",
       "      <td>10262</td>\n",
       "    </tr>\n",
       "    <tr>\n",
       "      <th>3327</th>\n",
       "      <td>Multiple carriers</td>\n",
       "      <td>9/03/2019</td>\n",
       "      <td>Delhi</td>\n",
       "      <td>Cochin</td>\n",
       "      <td>DEL → BOM → COK</td>\n",
       "      <td>17:00</td>\n",
       "      <td>01:35 10 Mar</td>\n",
       "      <td>8h 35m</td>\n",
       "      <td>1 stop</td>\n",
       "      <td>No info</td>\n",
       "      <td>14343</td>\n",
       "    </tr>\n",
       "    <tr>\n",
       "      <th>9631</th>\n",
       "      <td>IndiGo</td>\n",
       "      <td>03/03/2019</td>\n",
       "      <td>Banglore</td>\n",
       "      <td>New Delhi</td>\n",
       "      <td>BLR → DEL</td>\n",
       "      <td>16:55</td>\n",
       "      <td>19:45</td>\n",
       "      <td>2h 50m</td>\n",
       "      <td>non-stop</td>\n",
       "      <td>No info</td>\n",
       "      <td>8855</td>\n",
       "    </tr>\n",
       "    <tr>\n",
       "      <th>4177</th>\n",
       "      <td>Air India</td>\n",
       "      <td>6/06/2019</td>\n",
       "      <td>Delhi</td>\n",
       "      <td>Cochin</td>\n",
       "      <td>DEL → BHO → BOM → COK</td>\n",
       "      <td>20:00</td>\n",
       "      <td>19:15 07 Jun</td>\n",
       "      <td>23h 15m</td>\n",
       "      <td>2 stops</td>\n",
       "      <td>No info</td>\n",
       "      <td>11596</td>\n",
       "    </tr>\n",
       "    <tr>\n",
       "      <th>1850</th>\n",
       "      <td>Air India</td>\n",
       "      <td>24/06/2019</td>\n",
       "      <td>Delhi</td>\n",
       "      <td>Cochin</td>\n",
       "      <td>DEL → CCU → BOM → COK</td>\n",
       "      <td>14:25</td>\n",
       "      <td>19:15 25 Jun</td>\n",
       "      <td>28h 50m</td>\n",
       "      <td>2 stops</td>\n",
       "      <td>No info</td>\n",
       "      <td>13381</td>\n",
       "    </tr>\n",
       "    <tr>\n",
       "      <th>10068</th>\n",
       "      <td>SpiceJet</td>\n",
       "      <td>21/06/2019</td>\n",
       "      <td>Banglore</td>\n",
       "      <td>Delhi</td>\n",
       "      <td>BLR → DEL</td>\n",
       "      <td>09:30</td>\n",
       "      <td>12:20</td>\n",
       "      <td>2h 50m</td>\n",
       "      <td>non-stop</td>\n",
       "      <td>No info</td>\n",
       "      <td>3625</td>\n",
       "    </tr>\n",
       "    <tr>\n",
       "      <th>10103</th>\n",
       "      <td>IndiGo</td>\n",
       "      <td>21/04/2019</td>\n",
       "      <td>Banglore</td>\n",
       "      <td>Delhi</td>\n",
       "      <td>BLR → DEL</td>\n",
       "      <td>18:25</td>\n",
       "      <td>21:20</td>\n",
       "      <td>2h 55m</td>\n",
       "      <td>non-stop</td>\n",
       "      <td>No info</td>\n",
       "      <td>4823</td>\n",
       "    </tr>\n",
       "    <tr>\n",
       "      <th>7233</th>\n",
       "      <td>Air India</td>\n",
       "      <td>3/03/2019</td>\n",
       "      <td>Delhi</td>\n",
       "      <td>Cochin</td>\n",
       "      <td>DEL → AMD → BOM → COK</td>\n",
       "      <td>19:45</td>\n",
       "      <td>19:15 04 Mar</td>\n",
       "      <td>23h 30m</td>\n",
       "      <td>2 stops</td>\n",
       "      <td>No info</td>\n",
       "      <td>12856</td>\n",
       "    </tr>\n",
       "    <tr>\n",
       "      <th>382</th>\n",
       "      <td>IndiGo</td>\n",
       "      <td>9/04/2019</td>\n",
       "      <td>Banglore</td>\n",
       "      <td>Delhi</td>\n",
       "      <td>BLR → DEL</td>\n",
       "      <td>16:55</td>\n",
       "      <td>19:55</td>\n",
       "      <td>3h</td>\n",
       "      <td>non-stop</td>\n",
       "      <td>No info</td>\n",
       "      <td>4823</td>\n",
       "    </tr>\n",
       "    <tr>\n",
       "      <th>4416</th>\n",
       "      <td>Jet Airways</td>\n",
       "      <td>18/03/2019</td>\n",
       "      <td>Banglore</td>\n",
       "      <td>New Delhi</td>\n",
       "      <td>BLR → BOM → DEL</td>\n",
       "      <td>07:00</td>\n",
       "      <td>12:25</td>\n",
       "      <td>5h 25m</td>\n",
       "      <td>1 stop</td>\n",
       "      <td>No info</td>\n",
       "      <td>12284</td>\n",
       "    </tr>\n",
       "    <tr>\n",
       "      <th>9516</th>\n",
       "      <td>IndiGo</td>\n",
       "      <td>9/06/2019</td>\n",
       "      <td>Delhi</td>\n",
       "      <td>Cochin</td>\n",
       "      <td>DEL → HYD → COK</td>\n",
       "      <td>06:50</td>\n",
       "      <td>16:10</td>\n",
       "      <td>9h 20m</td>\n",
       "      <td>1 stop</td>\n",
       "      <td>No info</td>\n",
       "      <td>6442</td>\n",
       "    </tr>\n",
       "    <tr>\n",
       "      <th>4290</th>\n",
       "      <td>IndiGo</td>\n",
       "      <td>24/06/2019</td>\n",
       "      <td>Kolkata</td>\n",
       "      <td>Banglore</td>\n",
       "      <td>CCU → BLR</td>\n",
       "      <td>09:35</td>\n",
       "      <td>12:20</td>\n",
       "      <td>2h 45m</td>\n",
       "      <td>non-stop</td>\n",
       "      <td>No info</td>\n",
       "      <td>4804</td>\n",
       "    </tr>\n",
       "    <tr>\n",
       "      <th>9561</th>\n",
       "      <td>IndiGo</td>\n",
       "      <td>1/04/2019</td>\n",
       "      <td>Banglore</td>\n",
       "      <td>Delhi</td>\n",
       "      <td>BLR → DEL</td>\n",
       "      <td>16:55</td>\n",
       "      <td>19:55</td>\n",
       "      <td>3h</td>\n",
       "      <td>non-stop</td>\n",
       "      <td>No info</td>\n",
       "      <td>4823</td>\n",
       "    </tr>\n",
       "    <tr>\n",
       "      <th>8966</th>\n",
       "      <td>IndiGo</td>\n",
       "      <td>3/03/2019</td>\n",
       "      <td>Delhi</td>\n",
       "      <td>Cochin</td>\n",
       "      <td>DEL → BOM → COK</td>\n",
       "      <td>16:00</td>\n",
       "      <td>01:35 04 Mar</td>\n",
       "      <td>9h 35m</td>\n",
       "      <td>1 stop</td>\n",
       "      <td>No info</td>\n",
       "      <td>14871</td>\n",
       "    </tr>\n",
       "    <tr>\n",
       "      <th>1955</th>\n",
       "      <td>IndiGo</td>\n",
       "      <td>15/04/2019</td>\n",
       "      <td>Kolkata</td>\n",
       "      <td>Banglore</td>\n",
       "      <td>CCU → BLR</td>\n",
       "      <td>09:35</td>\n",
       "      <td>12:20</td>\n",
       "      <td>2h 45m</td>\n",
       "      <td>non-stop</td>\n",
       "      <td>No info</td>\n",
       "      <td>4174</td>\n",
       "    </tr>\n",
       "    <tr>\n",
       "      <th>7785</th>\n",
       "      <td>Multiple carriers</td>\n",
       "      <td>27/05/2019</td>\n",
       "      <td>Delhi</td>\n",
       "      <td>Cochin</td>\n",
       "      <td>DEL → BOM → COK</td>\n",
       "      <td>11:40</td>\n",
       "      <td>21:00</td>\n",
       "      <td>9h 20m</td>\n",
       "      <td>1 stop</td>\n",
       "      <td>No info</td>\n",
       "      <td>7005</td>\n",
       "    </tr>\n",
       "    <tr>\n",
       "      <th>6833</th>\n",
       "      <td>Multiple carriers</td>\n",
       "      <td>6/06/2019</td>\n",
       "      <td>Delhi</td>\n",
       "      <td>Cochin</td>\n",
       "      <td>DEL → BOM → COK</td>\n",
       "      <td>10:00</td>\n",
       "      <td>01:30 07 Jun</td>\n",
       "      <td>15h 30m</td>\n",
       "      <td>1 stop</td>\n",
       "      <td>No info</td>\n",
       "      <td>13377</td>\n",
       "    </tr>\n",
       "    <tr>\n",
       "      <th>7916</th>\n",
       "      <td>Air India</td>\n",
       "      <td>21/06/2019</td>\n",
       "      <td>Banglore</td>\n",
       "      <td>Delhi</td>\n",
       "      <td>BLR → DEL</td>\n",
       "      <td>06:10</td>\n",
       "      <td>08:55</td>\n",
       "      <td>2h 45m</td>\n",
       "      <td>non-stop</td>\n",
       "      <td>No info</td>\n",
       "      <td>6961</td>\n",
       "    </tr>\n",
       "  </tbody>\n",
       "</table>\n",
       "</div>"
      ],
      "text/plain": [
       "                 Airline Date_of_Journey    Source Destination  \\\n",
       "6985         Jet Airways       9/06/2019     Delhi      Cochin   \n",
       "10402        Jet Airways      12/06/2019   Kolkata    Banglore   \n",
       "1081         Jet Airways      12/06/2019     Delhi      Cochin   \n",
       "3327   Multiple carriers       9/03/2019     Delhi      Cochin   \n",
       "9631              IndiGo      03/03/2019  Banglore   New Delhi   \n",
       "4177           Air India       6/06/2019     Delhi      Cochin   \n",
       "1850           Air India      24/06/2019     Delhi      Cochin   \n",
       "10068           SpiceJet      21/06/2019  Banglore       Delhi   \n",
       "10103             IndiGo      21/04/2019  Banglore       Delhi   \n",
       "7233           Air India       3/03/2019     Delhi      Cochin   \n",
       "382               IndiGo       9/04/2019  Banglore       Delhi   \n",
       "4416         Jet Airways      18/03/2019  Banglore   New Delhi   \n",
       "9516              IndiGo       9/06/2019     Delhi      Cochin   \n",
       "4290              IndiGo      24/06/2019   Kolkata    Banglore   \n",
       "9561              IndiGo       1/04/2019  Banglore       Delhi   \n",
       "8966              IndiGo       3/03/2019     Delhi      Cochin   \n",
       "1955              IndiGo      15/04/2019   Kolkata    Banglore   \n",
       "7785   Multiple carriers      27/05/2019     Delhi      Cochin   \n",
       "6833   Multiple carriers       6/06/2019     Delhi      Cochin   \n",
       "7916           Air India      21/06/2019  Banglore       Delhi   \n",
       "\n",
       "                       Route Dep_Time  Arrival_Time Duration Total_Stops  \\\n",
       "6985   DEL → IDR → BOM → COK    09:35  04:25 10 Jun  18h 50m     2 stops   \n",
       "10402        CCU → BOM → BLR    06:30         18:15  11h 45m      1 stop   \n",
       "1081         DEL → BOM → COK    21:50  04:25 13 Jun   6h 35m      1 stop   \n",
       "3327         DEL → BOM → COK    17:00  01:35 10 Mar   8h 35m      1 stop   \n",
       "9631               BLR → DEL    16:55         19:45   2h 50m    non-stop   \n",
       "4177   DEL → BHO → BOM → COK    20:00  19:15 07 Jun  23h 15m     2 stops   \n",
       "1850   DEL → CCU → BOM → COK    14:25  19:15 25 Jun  28h 50m     2 stops   \n",
       "10068              BLR → DEL    09:30         12:20   2h 50m    non-stop   \n",
       "10103              BLR → DEL    18:25         21:20   2h 55m    non-stop   \n",
       "7233   DEL → AMD → BOM → COK    19:45  19:15 04 Mar  23h 30m     2 stops   \n",
       "382                BLR → DEL    16:55         19:55       3h    non-stop   \n",
       "4416         BLR → BOM → DEL    07:00         12:25   5h 25m      1 stop   \n",
       "9516         DEL → HYD → COK    06:50         16:10   9h 20m      1 stop   \n",
       "4290               CCU → BLR    09:35         12:20   2h 45m    non-stop   \n",
       "9561               BLR → DEL    16:55         19:55       3h    non-stop   \n",
       "8966         DEL → BOM → COK    16:00  01:35 04 Mar   9h 35m      1 stop   \n",
       "1955               CCU → BLR    09:35         12:20   2h 45m    non-stop   \n",
       "7785         DEL → BOM → COK    11:40         21:00   9h 20m      1 stop   \n",
       "6833         DEL → BOM → COK    10:00  01:30 07 Jun  15h 30m      1 stop   \n",
       "7916               BLR → DEL    06:10         08:55   2h 45m    non-stop   \n",
       "\n",
       "                   Additional_Info  Price  \n",
       "6985                       No info  13292  \n",
       "10402  In-flight meal not included   9899  \n",
       "1081   In-flight meal not included  10262  \n",
       "3327                       No info  14343  \n",
       "9631                       No info   8855  \n",
       "4177                       No info  11596  \n",
       "1850                       No info  13381  \n",
       "10068                      No info   3625  \n",
       "10103                      No info   4823  \n",
       "7233                       No info  12856  \n",
       "382                        No info   4823  \n",
       "4416                       No info  12284  \n",
       "9516                       No info   6442  \n",
       "4290                       No info   4804  \n",
       "9561                       No info   4823  \n",
       "8966                       No info  14871  \n",
       "1955                       No info   4174  \n",
       "7785                       No info   7005  \n",
       "6833                       No info  13377  \n",
       "7916                       No info   6961  "
      ]
     },
     "execution_count": 6,
     "metadata": {},
     "output_type": "execute_result"
    }
   ],
   "source": [
    "flights_df.sample(20)"
   ]
  },
  {
   "cell_type": "code",
   "execution_count": 7,
   "id": "c8913965-8fd7-4d1c-9bca-77b3a8f05787",
   "metadata": {},
   "outputs": [
    {
     "data": {
      "text/plain": [
       "Airline            object\n",
       "Date_of_Journey    object\n",
       "Source             object\n",
       "Destination        object\n",
       "Route              object\n",
       "Dep_Time           object\n",
       "Arrival_Time       object\n",
       "Duration           object\n",
       "Total_Stops        object\n",
       "Additional_Info    object\n",
       "Price               int64\n",
       "dtype: object"
      ]
     },
     "execution_count": 7,
     "metadata": {},
     "output_type": "execute_result"
    }
   ],
   "source": [
    "# data types of columns in the data\n",
    "\n",
    "flights_df.dtypes"
   ]
  },
  {
   "cell_type": "code",
   "execution_count": 8,
   "id": "558d5564-6684-4f15-bd82-2436099587e3",
   "metadata": {},
   "outputs": [
    {
     "name": "stdout",
     "output_type": "stream",
     "text": [
      "<class 'pandas.core.frame.DataFrame'>\n",
      "RangeIndex: 10683 entries, 0 to 10682\n",
      "Data columns (total 11 columns):\n",
      " #   Column           Non-Null Count  Dtype \n",
      "---  ------           --------------  ----- \n",
      " 0   Airline          10683 non-null  object\n",
      " 1   Date_of_Journey  10683 non-null  object\n",
      " 2   Source           10683 non-null  object\n",
      " 3   Destination      10683 non-null  object\n",
      " 4   Route            10682 non-null  object\n",
      " 5   Dep_Time         10683 non-null  object\n",
      " 6   Arrival_Time     10683 non-null  object\n",
      " 7   Duration         10683 non-null  object\n",
      " 8   Total_Stops      10682 non-null  object\n",
      " 9   Additional_Info  10683 non-null  object\n",
      " 10  Price            10683 non-null  int64 \n",
      "dtypes: int64(1), object(10)\n",
      "memory usage: 918.2+ KB\n"
     ]
    }
   ],
   "source": [
    "# info about the dataframe\n",
    "\n",
    "flights_df.info()"
   ]
  },
  {
   "cell_type": "code",
   "execution_count": 9,
   "id": "f64d0ea9-bcee-42de-a1a5-0b82c33a3aa7",
   "metadata": {},
   "outputs": [
    {
     "data": {
      "text/plain": [
       "Airline            0\n",
       "Date_of_Journey    0\n",
       "Source             0\n",
       "Destination        0\n",
       "Route              1\n",
       "Dep_Time           0\n",
       "Arrival_Time       0\n",
       "Duration           0\n",
       "Total_Stops        1\n",
       "Additional_Info    0\n",
       "Price              0\n",
       "dtype: int64"
      ]
     },
     "execution_count": 9,
     "metadata": {},
     "output_type": "execute_result"
    }
   ],
   "source": [
    "# checking for missing values in the data\n",
    "\n",
    "flights_df.isna().sum()"
   ]
  },
  {
   "cell_type": "code",
   "execution_count": 10,
   "id": "652de107-40f7-4970-81d3-7c03643602c8",
   "metadata": {},
   "outputs": [
    {
     "data": {
      "text/html": [
       "<div>\n",
       "<style scoped>\n",
       "    .dataframe tbody tr th:only-of-type {\n",
       "        vertical-align: middle;\n",
       "    }\n",
       "\n",
       "    .dataframe tbody tr th {\n",
       "        vertical-align: top;\n",
       "    }\n",
       "\n",
       "    .dataframe thead th {\n",
       "        text-align: right;\n",
       "    }\n",
       "</style>\n",
       "<table border=\"1\" class=\"dataframe\">\n",
       "  <thead>\n",
       "    <tr style=\"text-align: right;\">\n",
       "      <th></th>\n",
       "      <th>Airline</th>\n",
       "      <th>Date_of_Journey</th>\n",
       "      <th>Source</th>\n",
       "      <th>Destination</th>\n",
       "      <th>Route</th>\n",
       "      <th>Dep_Time</th>\n",
       "      <th>Arrival_Time</th>\n",
       "      <th>Duration</th>\n",
       "      <th>Total_Stops</th>\n",
       "      <th>Additional_Info</th>\n",
       "      <th>Price</th>\n",
       "    </tr>\n",
       "  </thead>\n",
       "  <tbody>\n",
       "    <tr>\n",
       "      <th>9039</th>\n",
       "      <td>Air India</td>\n",
       "      <td>6/05/2019</td>\n",
       "      <td>Delhi</td>\n",
       "      <td>Cochin</td>\n",
       "      <td>NaN</td>\n",
       "      <td>09:45</td>\n",
       "      <td>09:25 07 May</td>\n",
       "      <td>23h 40m</td>\n",
       "      <td>NaN</td>\n",
       "      <td>No info</td>\n",
       "      <td>7480</td>\n",
       "    </tr>\n",
       "  </tbody>\n",
       "</table>\n",
       "</div>"
      ],
      "text/plain": [
       "        Airline Date_of_Journey Source Destination Route Dep_Time  \\\n",
       "9039  Air India       6/05/2019  Delhi      Cochin   NaN    09:45   \n",
       "\n",
       "      Arrival_Time Duration Total_Stops Additional_Info  Price  \n",
       "9039  09:25 07 May  23h 40m         NaN         No info   7480  "
      ]
     },
     "execution_count": 10,
     "metadata": {},
     "output_type": "execute_result"
    }
   ],
   "source": [
    "# filter out the rows that have missing values\n",
    "\n",
    "(\n",
    "    flights_df\n",
    "    .loc[\n",
    "     flights_df\n",
    "    .isna()\n",
    "    .any(axis=1)\n",
    "    , :\n",
    "    ]\n",
    "    \n",
    ")"
   ]
  },
  {
   "cell_type": "markdown",
   "id": "22e09abb-ee21-4182-bc2e-eff57573a347",
   "metadata": {},
   "source": [
    "Index value `9039` has missing values in columns `Route` and `Total Stops`"
   ]
  },
  {
   "cell_type": "code",
   "execution_count": 11,
   "id": "fd445c7c-83eb-4197-ba7c-3f588ec7fc0a",
   "metadata": {},
   "outputs": [
    {
     "data": {
      "text/plain": [
       "220"
      ]
     },
     "execution_count": 11,
     "metadata": {},
     "output_type": "execute_result"
    }
   ],
   "source": [
    "# check for duplicate rows in the data\n",
    "\n",
    "(\n",
    "    flights_df\n",
    "    .duplicated()\n",
    "    .sum()\n",
    ")"
   ]
  },
  {
   "cell_type": "markdown",
   "id": "89d78a1b-2b68-4e84-a1f2-c43bce381703",
   "metadata": {},
   "source": [
    "**220 rows in the data are duplicated**"
   ]
  },
  {
   "cell_type": "code",
   "execution_count": 12,
   "id": "17f2318d-deac-4863-8f92-b1394e3d0a09",
   "metadata": {},
   "outputs": [
    {
     "data": {
      "text/html": [
       "<div>\n",
       "<style scoped>\n",
       "    .dataframe tbody tr th:only-of-type {\n",
       "        vertical-align: middle;\n",
       "    }\n",
       "\n",
       "    .dataframe tbody tr th {\n",
       "        vertical-align: top;\n",
       "    }\n",
       "\n",
       "    .dataframe thead th {\n",
       "        text-align: right;\n",
       "    }\n",
       "</style>\n",
       "<table border=\"1\" class=\"dataframe\">\n",
       "  <thead>\n",
       "    <tr style=\"text-align: right;\">\n",
       "      <th></th>\n",
       "      <th>Airline</th>\n",
       "      <th>Date_of_Journey</th>\n",
       "      <th>Source</th>\n",
       "      <th>Destination</th>\n",
       "      <th>Route</th>\n",
       "      <th>Dep_Time</th>\n",
       "      <th>Arrival_Time</th>\n",
       "      <th>Duration</th>\n",
       "      <th>Total_Stops</th>\n",
       "      <th>Additional_Info</th>\n",
       "      <th>Price</th>\n",
       "    </tr>\n",
       "  </thead>\n",
       "  <tbody>\n",
       "    <tr>\n",
       "      <th>6321</th>\n",
       "      <td>Air India</td>\n",
       "      <td>01/03/2019</td>\n",
       "      <td>Banglore</td>\n",
       "      <td>New Delhi</td>\n",
       "      <td>BLR → BOM → AMD → DEL</td>\n",
       "      <td>08:50</td>\n",
       "      <td>23:55 02 Mar</td>\n",
       "      <td>39h 5m</td>\n",
       "      <td>2 stops</td>\n",
       "      <td>No info</td>\n",
       "      <td>17135</td>\n",
       "    </tr>\n",
       "    <tr>\n",
       "      <th>9848</th>\n",
       "      <td>Air India</td>\n",
       "      <td>01/03/2019</td>\n",
       "      <td>Banglore</td>\n",
       "      <td>New Delhi</td>\n",
       "      <td>BLR → BOM → AMD → DEL</td>\n",
       "      <td>08:50</td>\n",
       "      <td>23:55 02 Mar</td>\n",
       "      <td>39h 5m</td>\n",
       "      <td>2 stops</td>\n",
       "      <td>No info</td>\n",
       "      <td>17135</td>\n",
       "    </tr>\n",
       "    <tr>\n",
       "      <th>572</th>\n",
       "      <td>Air India</td>\n",
       "      <td>03/03/2019</td>\n",
       "      <td>Banglore</td>\n",
       "      <td>New Delhi</td>\n",
       "      <td>BLR → DEL</td>\n",
       "      <td>21:10</td>\n",
       "      <td>23:55</td>\n",
       "      <td>2h 45m</td>\n",
       "      <td>non-stop</td>\n",
       "      <td>No info</td>\n",
       "      <td>7591</td>\n",
       "    </tr>\n",
       "    <tr>\n",
       "      <th>8168</th>\n",
       "      <td>Air India</td>\n",
       "      <td>03/03/2019</td>\n",
       "      <td>Banglore</td>\n",
       "      <td>New Delhi</td>\n",
       "      <td>BLR → DEL</td>\n",
       "      <td>21:10</td>\n",
       "      <td>23:55</td>\n",
       "      <td>2h 45m</td>\n",
       "      <td>non-stop</td>\n",
       "      <td>No info</td>\n",
       "      <td>7591</td>\n",
       "    </tr>\n",
       "    <tr>\n",
       "      <th>1552</th>\n",
       "      <td>IndiGo</td>\n",
       "      <td>03/03/2019</td>\n",
       "      <td>Banglore</td>\n",
       "      <td>New Delhi</td>\n",
       "      <td>BLR → DEL</td>\n",
       "      <td>16:55</td>\n",
       "      <td>19:45</td>\n",
       "      <td>2h 50m</td>\n",
       "      <td>non-stop</td>\n",
       "      <td>No info</td>\n",
       "      <td>8855</td>\n",
       "    </tr>\n",
       "    <tr>\n",
       "      <th>...</th>\n",
       "      <td>...</td>\n",
       "      <td>...</td>\n",
       "      <td>...</td>\n",
       "      <td>...</td>\n",
       "      <td>...</td>\n",
       "      <td>...</td>\n",
       "      <td>...</td>\n",
       "      <td>...</td>\n",
       "      <td>...</td>\n",
       "      <td>...</td>\n",
       "      <td>...</td>\n",
       "    </tr>\n",
       "    <tr>\n",
       "      <th>8446</th>\n",
       "      <td>Jet Airways</td>\n",
       "      <td>9/06/2019</td>\n",
       "      <td>Delhi</td>\n",
       "      <td>Cochin</td>\n",
       "      <td>DEL → NAG → BOM → COK</td>\n",
       "      <td>06:45</td>\n",
       "      <td>12:35 10 Jun</td>\n",
       "      <td>29h 50m</td>\n",
       "      <td>2 stops</td>\n",
       "      <td>No info</td>\n",
       "      <td>13376</td>\n",
       "    </tr>\n",
       "    <tr>\n",
       "      <th>8496</th>\n",
       "      <td>Jet Airways</td>\n",
       "      <td>9/06/2019</td>\n",
       "      <td>Delhi</td>\n",
       "      <td>Cochin</td>\n",
       "      <td>DEL → JAI → BOM → COK</td>\n",
       "      <td>09:40</td>\n",
       "      <td>12:35 10 Jun</td>\n",
       "      <td>26h 55m</td>\n",
       "      <td>2 stops</td>\n",
       "      <td>No info</td>\n",
       "      <td>13014</td>\n",
       "    </tr>\n",
       "    <tr>\n",
       "      <th>8967</th>\n",
       "      <td>Jet Airways</td>\n",
       "      <td>9/06/2019</td>\n",
       "      <td>Delhi</td>\n",
       "      <td>Cochin</td>\n",
       "      <td>DEL → JAI → BOM → COK</td>\n",
       "      <td>09:40</td>\n",
       "      <td>04:25 10 Jun</td>\n",
       "      <td>18h 45m</td>\n",
       "      <td>2 stops</td>\n",
       "      <td>In-flight meal not included</td>\n",
       "      <td>10368</td>\n",
       "    </tr>\n",
       "    <tr>\n",
       "      <th>9191</th>\n",
       "      <td>Jet Airways</td>\n",
       "      <td>9/06/2019</td>\n",
       "      <td>Delhi</td>\n",
       "      <td>Cochin</td>\n",
       "      <td>DEL → JAI → BOM → COK</td>\n",
       "      <td>09:40</td>\n",
       "      <td>12:35 10 Jun</td>\n",
       "      <td>26h 55m</td>\n",
       "      <td>2 stops</td>\n",
       "      <td>In-flight meal not included</td>\n",
       "      <td>10368</td>\n",
       "    </tr>\n",
       "    <tr>\n",
       "      <th>9216</th>\n",
       "      <td>Jet Airways</td>\n",
       "      <td>9/06/2019</td>\n",
       "      <td>Delhi</td>\n",
       "      <td>Cochin</td>\n",
       "      <td>DEL → IDR → BOM → COK</td>\n",
       "      <td>05:30</td>\n",
       "      <td>04:25 10 Jun</td>\n",
       "      <td>22h 55m</td>\n",
       "      <td>2 stops</td>\n",
       "      <td>No info</td>\n",
       "      <td>13292</td>\n",
       "    </tr>\n",
       "  </tbody>\n",
       "</table>\n",
       "<p>415 rows × 11 columns</p>\n",
       "</div>"
      ],
      "text/plain": [
       "          Airline Date_of_Journey    Source Destination  \\\n",
       "6321    Air India      01/03/2019  Banglore   New Delhi   \n",
       "9848    Air India      01/03/2019  Banglore   New Delhi   \n",
       "572     Air India      03/03/2019  Banglore   New Delhi   \n",
       "8168    Air India      03/03/2019  Banglore   New Delhi   \n",
       "1552       IndiGo      03/03/2019  Banglore   New Delhi   \n",
       "...           ...             ...       ...         ...   \n",
       "8446  Jet Airways       9/06/2019     Delhi      Cochin   \n",
       "8496  Jet Airways       9/06/2019     Delhi      Cochin   \n",
       "8967  Jet Airways       9/06/2019     Delhi      Cochin   \n",
       "9191  Jet Airways       9/06/2019     Delhi      Cochin   \n",
       "9216  Jet Airways       9/06/2019     Delhi      Cochin   \n",
       "\n",
       "                      Route Dep_Time  Arrival_Time Duration Total_Stops  \\\n",
       "6321  BLR → BOM → AMD → DEL    08:50  23:55 02 Mar   39h 5m     2 stops   \n",
       "9848  BLR → BOM → AMD → DEL    08:50  23:55 02 Mar   39h 5m     2 stops   \n",
       "572               BLR → DEL    21:10         23:55   2h 45m    non-stop   \n",
       "8168              BLR → DEL    21:10         23:55   2h 45m    non-stop   \n",
       "1552              BLR → DEL    16:55         19:45   2h 50m    non-stop   \n",
       "...                     ...      ...           ...      ...         ...   \n",
       "8446  DEL → NAG → BOM → COK    06:45  12:35 10 Jun  29h 50m     2 stops   \n",
       "8496  DEL → JAI → BOM → COK    09:40  12:35 10 Jun  26h 55m     2 stops   \n",
       "8967  DEL → JAI → BOM → COK    09:40  04:25 10 Jun  18h 45m     2 stops   \n",
       "9191  DEL → JAI → BOM → COK    09:40  12:35 10 Jun  26h 55m     2 stops   \n",
       "9216  DEL → IDR → BOM → COK    05:30  04:25 10 Jun  22h 55m     2 stops   \n",
       "\n",
       "                  Additional_Info  Price  \n",
       "6321                      No info  17135  \n",
       "9848                      No info  17135  \n",
       "572                       No info   7591  \n",
       "8168                      No info   7591  \n",
       "1552                      No info   8855  \n",
       "...                           ...    ...  \n",
       "8446                      No info  13376  \n",
       "8496                      No info  13014  \n",
       "8967  In-flight meal not included  10368  \n",
       "9191  In-flight meal not included  10368  \n",
       "9216                      No info  13292  \n",
       "\n",
       "[415 rows x 11 columns]"
      ]
     },
     "execution_count": 12,
     "metadata": {},
     "output_type": "execute_result"
    }
   ],
   "source": [
    "(\n",
    "    flights_df\n",
    "    .loc[\n",
    "    flights_df\n",
    "    .duplicated(keep=False)\n",
    "    ]\n",
    "    .sort_values(by=['Date_of_Journey','Airline'])\n",
    "    \n",
    ")"
   ]
  },
  {
   "cell_type": "code",
   "execution_count": 13,
   "id": "a89dcd13-1d3e-4421-be72-32470f224f18",
   "metadata": {},
   "outputs": [
    {
     "data": {
      "text/plain": [
       "Index(['airline', 'date_of_journey', 'source', 'destination', 'route',\n",
       "       'dep_time', 'arrival_time', 'duration', 'total_stops',\n",
       "       'additional_info', 'price'],\n",
       "      dtype='object')"
      ]
     },
     "execution_count": 13,
     "metadata": {},
     "output_type": "execute_result"
    }
   ],
   "source": [
    "(\n",
    "    flights_df\n",
    "    .rename(columns=str.lower)\n",
    "    .columns\n",
    ")"
   ]
  },
  {
   "cell_type": "markdown",
   "id": "cc4682c6-fedc-467d-91af-0bbd2964c9d3",
   "metadata": {},
   "source": [
    "## Airline"
   ]
  },
  {
   "cell_type": "code",
   "execution_count": 14,
   "id": "95f90389-a5c5-436b-aa05-f9d387b951a5",
   "metadata": {},
   "outputs": [
    {
     "data": {
      "text/plain": [
       "array(['Indigo', 'Air_India', 'Jet_Airways', 'Spicejet',\n",
       "       'Multiple_Carriers', 'Goair', 'Vistara', 'Air_Asia', 'Trujet'],\n",
       "      dtype=object)"
      ]
     },
     "execution_count": 14,
     "metadata": {},
     "output_type": "execute_result"
    }
   ],
   "source": [
    "(\n",
    "    flights_df['Airline']\n",
    "    .str.replace('Vistara Premium economy','Vistara')\n",
    "    .str.replace('Multiple carriers Premium economy','Multiple carriers')\n",
    "    .str.replace('Jet Airways Business','Jet Airways')\n",
    "    .str.strip()\n",
    "    .str.replace(' ','_')\n",
    "    .str.title()\n",
    "    .unique()\n",
    ")"
   ]
  },
  {
   "cell_type": "markdown",
   "id": "525d0c36-a82c-4395-b00a-ea90511f3ea4",
   "metadata": {},
   "source": [
    "**Steps**\n",
    "1. Replace the duplicate flight carriers and make them one.\n",
    "2. Strip extra whitespaces from categories.\n",
    "3. Replace the space between two words with \"_\".\n",
    "4. Convert the words into Title case."
   ]
  },
  {
   "cell_type": "markdown",
   "id": "39d790e5-63c9-421f-afa0-bbd97b10ccd5",
   "metadata": {},
   "source": [
    "## Date_of_Journey"
   ]
  },
  {
   "cell_type": "code",
   "execution_count": 15,
   "id": "1d2663fc-0062-4504-94a8-67e79b1c87fa",
   "metadata": {},
   "outputs": [
    {
     "data": {
      "text/plain": [
       "0       2019-03-24\n",
       "1       2019-05-01\n",
       "2       2019-06-09\n",
       "3       2019-05-12\n",
       "4       2019-03-01\n",
       "           ...    \n",
       "10678   2019-04-09\n",
       "10679   2019-04-27\n",
       "10680   2019-04-27\n",
       "10681   2019-03-01\n",
       "10682   2019-05-09\n",
       "Name: Date_of_Journey, Length: 10683, dtype: datetime64[ns]"
      ]
     },
     "execution_count": 15,
     "metadata": {},
     "output_type": "execute_result"
    }
   ],
   "source": [
    "(\n",
    "    pd.to_datetime(flights_df['Date_of_Journey'],dayfirst=True)\n",
    ")"
   ]
  },
  {
   "cell_type": "code",
   "execution_count": 16,
   "id": "d1e1c7bb-29a6-4592-9995-ead4bbcfbedf",
   "metadata": {},
   "outputs": [
    {
     "data": {
      "text/plain": [
       "0        24\n",
       "1         1\n",
       "2         9\n",
       "3        12\n",
       "4         1\n",
       "         ..\n",
       "10678     9\n",
       "10679    27\n",
       "10680    27\n",
       "10681     1\n",
       "10682     9\n",
       "Name: Date_of_Journey, Length: 10683, dtype: int32"
      ]
     },
     "execution_count": 16,
     "metadata": {},
     "output_type": "execute_result"
    }
   ],
   "source": [
    "(\n",
    "    pd.to_datetime(flights_df['Date_of_Journey'],dayfirst=True)\n",
    "    .dt.day\n",
    ")"
   ]
  },
  {
   "cell_type": "code",
   "execution_count": 17,
   "id": "b034f6cf-5fdc-44f0-8dc3-5aee578dce86",
   "metadata": {},
   "outputs": [
    {
     "data": {
      "text/plain": [
       "0        3\n",
       "1        5\n",
       "2        6\n",
       "3        5\n",
       "4        3\n",
       "        ..\n",
       "10678    4\n",
       "10679    4\n",
       "10680    4\n",
       "10681    3\n",
       "10682    5\n",
       "Name: Date_of_Journey, Length: 10683, dtype: int32"
      ]
     },
     "execution_count": 17,
     "metadata": {},
     "output_type": "execute_result"
    }
   ],
   "source": [
    "(\n",
    "    pd.to_datetime(flights_df['Date_of_Journey'],dayfirst=True)\n",
    "    .dt.month\n",
    ")"
   ]
  },
  {
   "cell_type": "code",
   "execution_count": 18,
   "id": "fe481304-bd0d-4d8f-8c2d-768eb9f447b2",
   "metadata": {},
   "outputs": [
    {
     "data": {
      "text/plain": [
       "min    2019\n",
       "max    2019\n",
       "Name: Date_of_Journey, dtype: int32"
      ]
     },
     "execution_count": 18,
     "metadata": {},
     "output_type": "execute_result"
    }
   ],
   "source": [
    "(\n",
    "    pd.to_datetime(flights_df['Date_of_Journey'],dayfirst=True)\n",
    "    .dt.year\n",
    "    .agg(['min','max'])\n",
    ")"
   ]
  },
  {
   "cell_type": "markdown",
   "id": "537ec5dc-4f12-4d02-9509-a144260c56a4",
   "metadata": {},
   "source": [
    "**Steps:**\n",
    "1. Convert the column to datetime.\n",
    "2. Extract the month and day information out of the datetime column.\n",
    "3. Drop the original column after the extraction step."
   ]
  },
  {
   "cell_type": "markdown",
   "id": "f1d00262-c59e-454a-ad45-39b2299e95a1",
   "metadata": {},
   "source": [
    "## Source"
   ]
  },
  {
   "cell_type": "code",
   "execution_count": 19,
   "id": "40d89b5b-4ef9-4cfd-94b4-76653ca2ddf6",
   "metadata": {},
   "outputs": [
    {
     "data": {
      "text/plain": [
       "array(['Banglore', 'Kolkata', 'Delhi', 'Chennai', 'Mumbai'], dtype=object)"
      ]
     },
     "execution_count": 19,
     "metadata": {},
     "output_type": "execute_result"
    }
   ],
   "source": [
    "(\n",
    "    flights_df['Source']\n",
    "    .unique()\n",
    ")"
   ]
  },
  {
   "cell_type": "code",
   "execution_count": 20,
   "id": "b8e1315f-6307-4fe0-9b94-1562287078c1",
   "metadata": {},
   "outputs": [
    {
     "data": {
      "text/plain": [
       "Source\n",
       "Delhi       4537\n",
       "Kolkata     2871\n",
       "Banglore    2197\n",
       "Mumbai       697\n",
       "Chennai      381\n",
       "Name: count, dtype: int64"
      ]
     },
     "execution_count": 20,
     "metadata": {},
     "output_type": "execute_result"
    }
   ],
   "source": [
    "(\n",
    "    flights_df['Source']\n",
    "    .value_counts()\n",
    ")"
   ]
  },
  {
   "cell_type": "markdown",
   "id": "562893ba-a5f0-45dd-be02-70bf2147669f",
   "metadata": {},
   "source": [
    "**No data cleaning steps to be performed in `Source` column**"
   ]
  },
  {
   "cell_type": "markdown",
   "id": "9efc47a2-7de0-4a09-95f4-1fe436cb72fb",
   "metadata": {},
   "source": [
    "## Destination"
   ]
  },
  {
   "cell_type": "code",
   "execution_count": 21,
   "id": "f8f2d5cb-a082-4df6-9a5c-b2e796e7ae50",
   "metadata": {},
   "outputs": [
    {
     "data": {
      "text/plain": [
       "array(['New Delhi', 'Banglore', 'Cochin', 'Kolkata', 'Delhi', 'Hyderabad'],\n",
       "      dtype=object)"
      ]
     },
     "execution_count": 21,
     "metadata": {},
     "output_type": "execute_result"
    }
   ],
   "source": [
    "(\n",
    "    flights_df['Destination']\n",
    "    .unique()\n",
    ")"
   ]
  },
  {
   "cell_type": "markdown",
   "id": "06bce50c-5808-4a7b-ae2d-3345877b1e33",
   "metadata": {},
   "source": [
    "**Steps**\n",
    "1. Merge the `New Delhi` and `Delhi` category together"
   ]
  },
  {
   "cell_type": "code",
   "execution_count": 22,
   "id": "e566976c-4112-4e1d-883e-c164959fc98b",
   "metadata": {},
   "outputs": [
    {
     "data": {
      "text/plain": [
       "Destination\n",
       "Cochin       4537\n",
       "Banglore     2871\n",
       "Delhi        1265\n",
       "New Delhi     932\n",
       "Hyderabad     697\n",
       "Kolkata       381\n",
       "Name: count, dtype: int64"
      ]
     },
     "execution_count": 22,
     "metadata": {},
     "output_type": "execute_result"
    }
   ],
   "source": [
    "(\n",
    "    flights_df['Destination']\n",
    "    .value_counts()\n",
    ")"
   ]
  },
  {
   "cell_type": "code",
   "execution_count": 23,
   "id": "85552427-9b75-4d22-ad2d-6441bd049ee8",
   "metadata": {},
   "outputs": [
    {
     "data": {
      "text/plain": [
       "Destination\n",
       "Cochin       4537\n",
       "Banglore     2871\n",
       "Delhi        2197\n",
       "Hyderabad     697\n",
       "Kolkata       381\n",
       "Name: count, dtype: int64"
      ]
     },
     "execution_count": 23,
     "metadata": {},
     "output_type": "execute_result"
    }
   ],
   "source": [
    "(\n",
    "    flights_df['Destination']\n",
    "    .str.replace('New Delhi','Delhi')\n",
    "    .value_counts()\n",
    ")"
   ]
  },
  {
   "cell_type": "code",
   "execution_count": 24,
   "id": "13f17833-acb3-4c76-b436-8eac3d15eb52",
   "metadata": {},
   "outputs": [
    {
     "data": {
      "text/plain": [
       "2197"
      ]
     },
     "execution_count": 24,
     "metadata": {},
     "output_type": "execute_result"
    }
   ],
   "source": [
    "932 + 1265"
   ]
  },
  {
   "cell_type": "markdown",
   "id": "0beaf45f-73c2-4313-83c8-853d60d3c95e",
   "metadata": {},
   "source": [
    "## Dep_Time"
   ]
  },
  {
   "cell_type": "code",
   "execution_count": 25,
   "id": "87901e66-142b-4333-960f-1287a55d6fb8",
   "metadata": {},
   "outputs": [
    {
     "data": {
      "text/plain": [
       "Index(['Airline', 'Date_of_Journey', 'Source', 'Destination', 'Route',\n",
       "       'Dep_Time', 'Arrival_Time', 'Duration', 'Total_Stops',\n",
       "       'Additional_Info', 'Price'],\n",
       "      dtype='object')"
      ]
     },
     "execution_count": 25,
     "metadata": {},
     "output_type": "execute_result"
    }
   ],
   "source": [
    "flights_df.columns"
   ]
  },
  {
   "cell_type": "code",
   "execution_count": 26,
   "id": "3acd8558-46e5-4326-bd36-bac6ba468709",
   "metadata": {},
   "outputs": [
    {
     "data": {
      "text/plain": [
       "0        22:20:00\n",
       "1        05:50:00\n",
       "2        09:25:00\n",
       "3        18:05:00\n",
       "4        16:50:00\n",
       "           ...   \n",
       "10678    19:55:00\n",
       "10679    20:45:00\n",
       "10680    08:20:00\n",
       "10681    11:30:00\n",
       "10682    10:55:00\n",
       "Name: Dep_Time, Length: 10683, dtype: object"
      ]
     },
     "execution_count": 26,
     "metadata": {},
     "output_type": "execute_result"
    }
   ],
   "source": [
    "(\n",
    "    pd.to_datetime(flights_df['Dep_Time'],format='mixed')\n",
    "    .dt.time\n",
    ")"
   ]
  },
  {
   "cell_type": "markdown",
   "id": "a1d22979-cc4d-4d4d-ad32-01f210d17bd1",
   "metadata": {},
   "source": [
    "**Convert the column to datetime and extract the time information out of it**"
   ]
  },
  {
   "cell_type": "code",
   "execution_count": 27,
   "id": "2c8727e2-3163-4998-93f1-f8e51953c2dc",
   "metadata": {},
   "outputs": [
    {
     "data": {
      "text/plain": [
       "0"
      ]
     },
     "execution_count": 27,
     "metadata": {},
     "output_type": "execute_result"
    }
   ],
   "source": [
    "(\n",
    "    flights_df['Dep_Time']\n",
    "    .str.contains(pat=\"[^0-9:]\")\n",
    "    .sum()\n",
    ")"
   ]
  },
  {
   "cell_type": "code",
   "execution_count": 28,
   "id": "748ae323-bb81-4ff0-9f06-f2c2520a227e",
   "metadata": {},
   "outputs": [
    {
     "data": {
      "text/plain": [
       "Series([], Name: Dep_Time, dtype: object)"
      ]
     },
     "execution_count": 28,
     "metadata": {},
     "output_type": "execute_result"
    }
   ],
   "source": [
    "(\n",
    "    flights_df['Dep_Time']\n",
    "    .loc[lambda ser : ser\n",
    "    .str.contains(\"[^0-9:]\")]\n",
    ")"
   ]
  },
  {
   "cell_type": "markdown",
   "id": "bd56dfe8-ef4b-4591-8d85-61eeb4ce1a97",
   "metadata": {},
   "source": [
    "## Arrival Time"
   ]
  },
  {
   "cell_type": "code",
   "execution_count": 29,
   "id": "4964f423-094b-4729-b28f-65bcfb727ab3",
   "metadata": {},
   "outputs": [
    {
     "data": {
      "text/plain": [
       "0        01:10 22 Mar\n",
       "1               13:15\n",
       "2        04:25 10 Jun\n",
       "3               23:30\n",
       "4               21:35\n",
       "             ...     \n",
       "10678           22:25\n",
       "10679           23:20\n",
       "10680           11:20\n",
       "10681           14:10\n",
       "10682           19:15\n",
       "Name: Arrival_Time, Length: 10683, dtype: object"
      ]
     },
     "execution_count": 29,
     "metadata": {},
     "output_type": "execute_result"
    }
   ],
   "source": [
    "flights_df['Arrival_Time']"
   ]
  },
  {
   "cell_type": "code",
   "execution_count": 30,
   "id": "72a5c1b8-b692-4c36-93ca-b33e3f4f8f73",
   "metadata": {},
   "outputs": [
    {
     "data": {
      "text/plain": [
       "0        01:10:00\n",
       "1        13:15:00\n",
       "2        04:25:00\n",
       "3        23:30:00\n",
       "4        21:35:00\n",
       "           ...   \n",
       "10678    22:25:00\n",
       "10679    23:20:00\n",
       "10680    11:20:00\n",
       "10681    14:10:00\n",
       "10682    19:15:00\n",
       "Name: Arrival_Time, Length: 10683, dtype: object"
      ]
     },
     "execution_count": 30,
     "metadata": {},
     "output_type": "execute_result"
    }
   ],
   "source": [
    "(\n",
    "    pd.to_datetime(flights_df['Arrival_Time'],format='mixed')\n",
    "    .dt.time\n",
    ")"
   ]
  },
  {
   "cell_type": "code",
   "execution_count": 31,
   "id": "e8b52c5a-78df-46a3-bdf1-46b9fcdf6ed3",
   "metadata": {},
   "outputs": [
    {
     "data": {
      "text/plain": [
       "array(['22 Mar', '10 Jun', '13 Mar', '02 Mar', '10 May', '04 Mar',\n",
       "       '13 Jun', '28 May', '19 Mar', '07 May', '02 Jun', '16 Jun',\n",
       "       '19 May', '16 May', '28 Jun', '02 May', '28 Mar', '19 Jun',\n",
       "       '04 Apr', '25 Mar', '07 Mar', '25 Jun', '07 Jun', '25 May',\n",
       "       '13 May', '16 Mar', '22 May', '10 Apr', '04 Jun', '20 May',\n",
       "       '28 Apr', '25 Apr', '10 Mar', '19 Apr', '13 Apr', '02 Apr',\n",
       "       '23 Mar', '22 Apr', '11 May', '07 Apr', '03 May', '08 Mar',\n",
       "       '03 Mar', '05 Mar', '22 Jun', '04 May', '26 May', '16 Apr',\n",
       "       '26 Jun', '29 May', '29 Jun', '29 Mar', '23 May', '17 Jun'],\n",
       "      dtype=object)"
      ]
     },
     "execution_count": 31,
     "metadata": {},
     "output_type": "execute_result"
    }
   ],
   "source": [
    "(\n",
    "    flights_df['Arrival_Time']\n",
    "    .str.split(\" \",n=1,expand=True)\n",
    "    .loc[:,1]\n",
    "    .dropna()\n",
    "    .unique()\n",
    ")"
   ]
  },
  {
   "cell_type": "markdown",
   "id": "6380e13e-28d0-4c89-8650-f330800ac944",
   "metadata": {},
   "source": [
    "## Duration"
   ]
  },
  {
   "cell_type": "code",
   "execution_count": 32,
   "id": "3cc6b5b1-6a09-4d2d-a43b-acacb177d813",
   "metadata": {},
   "outputs": [
    {
     "data": {
      "text/plain": [
       "Index([6474], dtype='int64')"
      ]
     },
     "execution_count": 32,
     "metadata": {},
     "output_type": "execute_result"
    }
   ],
   "source": [
    "(\n",
    "    flights_df['Duration']\n",
    "    .loc[lambda ser: ~ser\n",
    "    .str.contains(\"h\")\n",
    "    ]\n",
    "    .index\n",
    ")"
   ]
  },
  {
   "cell_type": "markdown",
   "id": "9378dc99-a34f-4687-89c8-2fc3e1c88e8f",
   "metadata": {},
   "source": [
    "- The index value 6474 contains the flight duration as 5 minutes which is not possible in a real world scenario"
   ]
  },
  {
   "cell_type": "code",
   "execution_count": 33,
   "id": "7db8b723-6d0e-4db3-bf52-efb33fcf1922",
   "metadata": {},
   "outputs": [
    {
     "data": {
      "text/html": [
       "<div>\n",
       "<style scoped>\n",
       "    .dataframe tbody tr th:only-of-type {\n",
       "        vertical-align: middle;\n",
       "    }\n",
       "\n",
       "    .dataframe tbody tr th {\n",
       "        vertical-align: top;\n",
       "    }\n",
       "\n",
       "    .dataframe thead th {\n",
       "        text-align: right;\n",
       "    }\n",
       "</style>\n",
       "<table border=\"1\" class=\"dataframe\">\n",
       "  <thead>\n",
       "    <tr style=\"text-align: right;\">\n",
       "      <th></th>\n",
       "      <th>Airline</th>\n",
       "      <th>Date_of_Journey</th>\n",
       "      <th>Source</th>\n",
       "      <th>Destination</th>\n",
       "      <th>Route</th>\n",
       "      <th>Dep_Time</th>\n",
       "      <th>Arrival_Time</th>\n",
       "      <th>Duration</th>\n",
       "      <th>Total_Stops</th>\n",
       "      <th>Additional_Info</th>\n",
       "      <th>Price</th>\n",
       "    </tr>\n",
       "  </thead>\n",
       "  <tbody>\n",
       "    <tr>\n",
       "      <th>6474</th>\n",
       "      <td>Air India</td>\n",
       "      <td>6/03/2019</td>\n",
       "      <td>Mumbai</td>\n",
       "      <td>Hyderabad</td>\n",
       "      <td>BOM → GOI → PNQ → HYD</td>\n",
       "      <td>16:50</td>\n",
       "      <td>16:55</td>\n",
       "      <td>5m</td>\n",
       "      <td>2 stops</td>\n",
       "      <td>No info</td>\n",
       "      <td>17327</td>\n",
       "    </tr>\n",
       "  </tbody>\n",
       "</table>\n",
       "</div>"
      ],
      "text/plain": [
       "        Airline Date_of_Journey  Source Destination                  Route  \\\n",
       "6474  Air India       6/03/2019  Mumbai   Hyderabad  BOM → GOI → PNQ → HYD   \n",
       "\n",
       "     Dep_Time Arrival_Time Duration Total_Stops Additional_Info  Price  \n",
       "6474    16:50        16:55       5m     2 stops         No info  17327  "
      ]
     },
     "execution_count": 33,
     "metadata": {},
     "output_type": "execute_result"
    }
   ],
   "source": [
    "(\n",
    "    flights_df.loc[[6474],:]\n",
    ")"
   ]
  },
  {
   "cell_type": "code",
   "execution_count": 34,
   "id": "b1a3e1d8-b60d-4cf5-9f51-9eca70d18a3a",
   "metadata": {},
   "outputs": [
    {
     "data": {
      "text/plain": [
       "2        19h\n",
       "18       23h\n",
       "33       22h\n",
       "44       12h\n",
       "53        3h\n",
       "        ... \n",
       "10591    23h\n",
       "10638    14h\n",
       "10639    38h\n",
       "10673    15h\n",
       "10680     3h\n",
       "Name: Duration, Length: 1031, dtype: object"
      ]
     },
     "execution_count": 34,
     "metadata": {},
     "output_type": "execute_result"
    }
   ],
   "source": [
    "(\n",
    "    flights_df['Duration']\n",
    "    .loc[lambda ser: ~ser\n",
    "    .str.contains(\"m\")\n",
    "    ]\n",
    ")"
   ]
  },
  {
   "cell_type": "code",
   "execution_count": 35,
   "id": "89833567-4377-4d81-ac4e-963cadb4b200",
   "metadata": {},
   "outputs": [],
   "source": [
    "def convert_to_minutes(ser):\n",
    "    return (\n",
    "        ser\n",
    "        .str.split(\" \",expand=True)\n",
    "        .rename(columns={0:'hours',\n",
    "                         1:'minutes'})\n",
    "        .assign(\n",
    "            hours = lambda df_: (\n",
    "                df_['hours']\n",
    "                .str.replace(\"h\",\"\")\n",
    "                .astype(int)\n",
    "                .mul(60)\n",
    "            ),\n",
    "            minutes= lambda df_:(\n",
    "                df_['minutes']\n",
    "                .str.replace(\"m\",\"\")\n",
    "                .fillna(\"0\")\n",
    "                .astype(int)\n",
    "            )\n",
    "        )\n",
    "        .sum(axis=1)\n",
    "    )"
   ]
  },
  {
   "cell_type": "markdown",
   "id": "18c073a9-2d01-4c65-a304-417b33f7e828",
   "metadata": {},
   "source": [
    "## Total Stops"
   ]
  },
  {
   "cell_type": "code",
   "execution_count": 36,
   "id": "bd2258e1-e1e3-42b8-8d82-459c4af2956b",
   "metadata": {},
   "outputs": [
    {
     "data": {
      "text/plain": [
       "array(['non-stop', '2 stops', '1 stop', '3 stops', nan, '4 stops'],\n",
       "      dtype=object)"
      ]
     },
     "execution_count": 36,
     "metadata": {},
     "output_type": "execute_result"
    }
   ],
   "source": [
    "(\n",
    "    flights_df['Total_Stops']\n",
    "    .unique()\n",
    ")"
   ]
  },
  {
   "cell_type": "code",
   "execution_count": 37,
   "id": "11a43688-784b-482c-92ed-ab55c68b8f53",
   "metadata": {},
   "outputs": [
    {
     "data": {
      "text/plain": [
       "9039    NaN\n",
       "Name: Total_Stops, dtype: object"
      ]
     },
     "execution_count": 37,
     "metadata": {},
     "output_type": "execute_result"
    }
   ],
   "source": [
    "(\n",
    "    flights_df['Total_Stops']\n",
    "    .loc[\n",
    "    lambda ser: ser.isna()\n",
    "    ]\n",
    ")"
   ]
  },
  {
   "cell_type": "code",
   "execution_count": 38,
   "id": "a50d70f5-05db-4d80-a320-29a8f6d779a0",
   "metadata": {},
   "outputs": [
    {
     "data": {
      "text/plain": [
       "Airline               Air India\n",
       "Date_of_Journey       6/05/2019\n",
       "Source                    Delhi\n",
       "Destination              Cochin\n",
       "Route                       NaN\n",
       "Dep_Time                  09:45\n",
       "Arrival_Time       09:25 07 May\n",
       "Duration                23h 40m\n",
       "Total_Stops                 NaN\n",
       "Additional_Info         No info\n",
       "Price                      7480\n",
       "Name: 9039, dtype: object"
      ]
     },
     "execution_count": 38,
     "metadata": {},
     "output_type": "execute_result"
    }
   ],
   "source": [
    "(\n",
    "    flights_df\n",
    "    .loc[9039]\n",
    ")"
   ]
  },
  {
   "cell_type": "code",
   "execution_count": 39,
   "id": "19b09d90-a581-4d67-83b8-832bcb12b9bb",
   "metadata": {},
   "outputs": [
    {
     "data": {
      "text/plain": [
       "0        0\n",
       "1        2\n",
       "2        2\n",
       "3        1\n",
       "4        1\n",
       "        ..\n",
       "10678    0\n",
       "10679    0\n",
       "10680    0\n",
       "10681    0\n",
       "10682    2\n",
       "Name: Total_Stops, Length: 10683, dtype: int32"
      ]
     },
     "execution_count": 39,
     "metadata": {},
     "output_type": "execute_result"
    }
   ],
   "source": [
    "(\n",
    "    flights_df['Total_Stops']\n",
    "    .fillna(\"non-stop\")\n",
    "    .str.replace(\"non-stop\",\"0\")\n",
    "    .str.replace(\" stops?\",\"\",regex=True)\n",
    "    .astype(int)\n",
    ")"
   ]
  },
  {
   "cell_type": "markdown",
   "id": "f21963fa-c151-4306-bf2a-9083b6e896ed",
   "metadata": {},
   "source": [
    "## Additional_Info"
   ]
  },
  {
   "cell_type": "code",
   "execution_count": 40,
   "id": "16c44fc8-a111-4843-a6c9-0fe6a01b504e",
   "metadata": {},
   "outputs": [
    {
     "data": {
      "text/plain": [
       "array(['No info', 'In-flight meal not included',\n",
       "       'No check-in baggage included', '1 Short layover', 'No Info',\n",
       "       '1 Long layover', 'Change airports', 'Business class',\n",
       "       'Red-eye flight', '2 Long layover'], dtype=object)"
      ]
     },
     "execution_count": 40,
     "metadata": {},
     "output_type": "execute_result"
    }
   ],
   "source": [
    "(\n",
    "    flights_df['Additional_Info']\n",
    "    .unique()\n",
    ")"
   ]
  },
  {
   "cell_type": "markdown",
   "id": "bf1452d6-2322-4094-832e-452d2637dd4b",
   "metadata": {},
   "source": [
    "**We can drop this column for now and train our model without this column**"
   ]
  },
  {
   "cell_type": "markdown",
   "id": "6f7ae053-8d5a-4ddd-aa08-9d3e214f32c3",
   "metadata": {},
   "source": [
    "## Price"
   ]
  },
  {
   "cell_type": "code",
   "execution_count": 41,
   "id": "f5d8ce6a-adc8-493a-90c5-96f375c5625e",
   "metadata": {},
   "outputs": [
    {
     "data": {
      "text/plain": [
       "0"
      ]
     },
     "execution_count": 41,
     "metadata": {},
     "output_type": "execute_result"
    }
   ],
   "source": [
    "(\n",
    "    flights_df['Price']\n",
    "    .isna().sum()\n",
    ")"
   ]
  },
  {
   "cell_type": "code",
   "execution_count": 42,
   "id": "66d94307-458f-497b-9caa-9dd903f861f2",
   "metadata": {},
   "outputs": [
    {
     "data": {
      "text/plain": [
       "min     1759\n",
       "max    79512\n",
       "Name: Price, dtype: int64"
      ]
     },
     "execution_count": 42,
     "metadata": {},
     "output_type": "execute_result"
    }
   ],
   "source": [
    "(\n",
    "    flights_df['Price']\n",
    "    .agg(['min','max'])\n",
    ")"
   ]
  },
  {
   "cell_type": "code",
   "execution_count": 43,
   "id": "03a235d1-a2b7-4be4-8711-f783045fca1c",
   "metadata": {},
   "outputs": [
    {
     "data": {
      "text/plain": [
       "dtype('int64')"
      ]
     },
     "execution_count": 43,
     "metadata": {},
     "output_type": "execute_result"
    }
   ],
   "source": [
    "(\n",
    "    flights_df['Price']\n",
    "    .dtype\n",
    ")"
   ]
  },
  {
   "cell_type": "markdown",
   "id": "3f8b7380-fd9f-40ed-8143-d0e2b9448b5e",
   "metadata": {},
   "source": [
    "-------"
   ]
  },
  {
   "cell_type": "markdown",
   "id": "95a6153b-b396-4207-ad79-7c4f2622e0f6",
   "metadata": {},
   "source": [
    "# Data Cleaning"
   ]
  },
  {
   "cell_type": "code",
   "execution_count": 44,
   "id": "122ae5ac-bd1f-4365-ac9c-2ca8995648a5",
   "metadata": {},
   "outputs": [],
   "source": [
    "def data_cleaning(df:pd.DataFrame):\n",
    "    return (\n",
    "        df\n",
    "        .drop_duplicates()\n",
    "        .rename(columns=str.lower)\n",
    "        .assign(\n",
    "            airline = lambda df_:df_.loc[:,'airline']\n",
    "                                .str.replace('Vistara Premium economy','Vistara')\n",
    "                                .str.replace('Multiple carriers Premium economy','Multiple carriers')\n",
    "                                .str.replace('Jet Airways Business','Jet Airways')\n",
    "                                .str.strip()\n",
    "                                .str.replace(' ','_')\n",
    "                                .str.title(),\n",
    "            date_of_journey = lambda df_: pd.to_datetime(df_.loc[:,'date_of_journey'],dayfirst=True),\n",
    "            day_of_journey = lambda df_: df_.loc[:,'date_of_journey'].dt.day,\n",
    "            month_of_journey = lambda df_: df_.loc[:,'date_of_journey'].dt.month\n",
    "        )\n",
    "        .drop(columns='date_of_journey')\n",
    "        .assign(\n",
    "            destination = lambda df_: df_.loc[:,'destination']\n",
    "                                    .str.replace('New Delhi','Delhi')\n",
    "        )\n",
    "        .drop(columns=['route'])\n",
    "        .rename(columns={\n",
    "            \"dep_time\": \"departure_time\"\n",
    "        })\n",
    "        .assign(\n",
    "            departure_time = lambda df_: pd.to_datetime(df_.loc[:,'departure_time'],format='mixed')\n",
    "                                        .dt.time,\n",
    "            arrival_time = lambda df_: pd.to_datetime(df_.loc[:,'arrival_time'],format='mixed')\n",
    "                                        .dt.time\n",
    "        )\n",
    "        .drop(index=[6474])\n",
    "        .assign(\n",
    "            duration = lambda df_: df_['duration'].pipe(convert_to_minutes),\n",
    "            total_stops = lambda df_: (\n",
    "                df_['total_stops']\n",
    "                .fillna(\"non-stop\")\n",
    "                .str.replace(\"non-stop\",\"0\")\n",
    "                .str.replace(\" stops?\",\"\",regex=True)\n",
    "                .astype(int)\n",
    "            )\n",
    "        )\n",
    "        .drop(columns='additional_info')\n",
    "    )"
   ]
  },
  {
   "cell_type": "code",
   "execution_count": 45,
   "id": "a10e8f9a-db4e-4c51-a1b2-4002696823b1",
   "metadata": {},
   "outputs": [
    {
     "data": {
      "text/html": [
       "<div>\n",
       "<style scoped>\n",
       "    .dataframe tbody tr th:only-of-type {\n",
       "        vertical-align: middle;\n",
       "    }\n",
       "\n",
       "    .dataframe tbody tr th {\n",
       "        vertical-align: top;\n",
       "    }\n",
       "\n",
       "    .dataframe thead th {\n",
       "        text-align: right;\n",
       "    }\n",
       "</style>\n",
       "<table border=\"1\" class=\"dataframe\">\n",
       "  <thead>\n",
       "    <tr style=\"text-align: right;\">\n",
       "      <th></th>\n",
       "      <th>airline</th>\n",
       "      <th>source</th>\n",
       "      <th>destination</th>\n",
       "      <th>departure_time</th>\n",
       "      <th>arrival_time</th>\n",
       "      <th>duration</th>\n",
       "      <th>total_stops</th>\n",
       "      <th>price</th>\n",
       "      <th>day_of_journey</th>\n",
       "      <th>month_of_journey</th>\n",
       "    </tr>\n",
       "  </thead>\n",
       "  <tbody>\n",
       "    <tr>\n",
       "      <th>0</th>\n",
       "      <td>Indigo</td>\n",
       "      <td>Banglore</td>\n",
       "      <td>Delhi</td>\n",
       "      <td>22:20:00</td>\n",
       "      <td>01:10:00</td>\n",
       "      <td>170</td>\n",
       "      <td>0</td>\n",
       "      <td>3897</td>\n",
       "      <td>24</td>\n",
       "      <td>3</td>\n",
       "    </tr>\n",
       "    <tr>\n",
       "      <th>1</th>\n",
       "      <td>Air_India</td>\n",
       "      <td>Kolkata</td>\n",
       "      <td>Banglore</td>\n",
       "      <td>05:50:00</td>\n",
       "      <td>13:15:00</td>\n",
       "      <td>445</td>\n",
       "      <td>2</td>\n",
       "      <td>7662</td>\n",
       "      <td>1</td>\n",
       "      <td>5</td>\n",
       "    </tr>\n",
       "    <tr>\n",
       "      <th>2</th>\n",
       "      <td>Jet_Airways</td>\n",
       "      <td>Delhi</td>\n",
       "      <td>Cochin</td>\n",
       "      <td>09:25:00</td>\n",
       "      <td>04:25:00</td>\n",
       "      <td>1140</td>\n",
       "      <td>2</td>\n",
       "      <td>13882</td>\n",
       "      <td>9</td>\n",
       "      <td>6</td>\n",
       "    </tr>\n",
       "    <tr>\n",
       "      <th>3</th>\n",
       "      <td>Indigo</td>\n",
       "      <td>Kolkata</td>\n",
       "      <td>Banglore</td>\n",
       "      <td>18:05:00</td>\n",
       "      <td>23:30:00</td>\n",
       "      <td>325</td>\n",
       "      <td>1</td>\n",
       "      <td>6218</td>\n",
       "      <td>12</td>\n",
       "      <td>5</td>\n",
       "    </tr>\n",
       "    <tr>\n",
       "      <th>4</th>\n",
       "      <td>Indigo</td>\n",
       "      <td>Banglore</td>\n",
       "      <td>Delhi</td>\n",
       "      <td>16:50:00</td>\n",
       "      <td>21:35:00</td>\n",
       "      <td>285</td>\n",
       "      <td>1</td>\n",
       "      <td>13302</td>\n",
       "      <td>1</td>\n",
       "      <td>3</td>\n",
       "    </tr>\n",
       "    <tr>\n",
       "      <th>...</th>\n",
       "      <td>...</td>\n",
       "      <td>...</td>\n",
       "      <td>...</td>\n",
       "      <td>...</td>\n",
       "      <td>...</td>\n",
       "      <td>...</td>\n",
       "      <td>...</td>\n",
       "      <td>...</td>\n",
       "      <td>...</td>\n",
       "      <td>...</td>\n",
       "    </tr>\n",
       "    <tr>\n",
       "      <th>10678</th>\n",
       "      <td>Air_Asia</td>\n",
       "      <td>Kolkata</td>\n",
       "      <td>Banglore</td>\n",
       "      <td>19:55:00</td>\n",
       "      <td>22:25:00</td>\n",
       "      <td>150</td>\n",
       "      <td>0</td>\n",
       "      <td>4107</td>\n",
       "      <td>9</td>\n",
       "      <td>4</td>\n",
       "    </tr>\n",
       "    <tr>\n",
       "      <th>10679</th>\n",
       "      <td>Air_India</td>\n",
       "      <td>Kolkata</td>\n",
       "      <td>Banglore</td>\n",
       "      <td>20:45:00</td>\n",
       "      <td>23:20:00</td>\n",
       "      <td>155</td>\n",
       "      <td>0</td>\n",
       "      <td>4145</td>\n",
       "      <td>27</td>\n",
       "      <td>4</td>\n",
       "    </tr>\n",
       "    <tr>\n",
       "      <th>10680</th>\n",
       "      <td>Jet_Airways</td>\n",
       "      <td>Banglore</td>\n",
       "      <td>Delhi</td>\n",
       "      <td>08:20:00</td>\n",
       "      <td>11:20:00</td>\n",
       "      <td>180</td>\n",
       "      <td>0</td>\n",
       "      <td>7229</td>\n",
       "      <td>27</td>\n",
       "      <td>4</td>\n",
       "    </tr>\n",
       "    <tr>\n",
       "      <th>10681</th>\n",
       "      <td>Vistara</td>\n",
       "      <td>Banglore</td>\n",
       "      <td>Delhi</td>\n",
       "      <td>11:30:00</td>\n",
       "      <td>14:10:00</td>\n",
       "      <td>160</td>\n",
       "      <td>0</td>\n",
       "      <td>12648</td>\n",
       "      <td>1</td>\n",
       "      <td>3</td>\n",
       "    </tr>\n",
       "    <tr>\n",
       "      <th>10682</th>\n",
       "      <td>Air_India</td>\n",
       "      <td>Delhi</td>\n",
       "      <td>Cochin</td>\n",
       "      <td>10:55:00</td>\n",
       "      <td>19:15:00</td>\n",
       "      <td>500</td>\n",
       "      <td>2</td>\n",
       "      <td>11753</td>\n",
       "      <td>9</td>\n",
       "      <td>5</td>\n",
       "    </tr>\n",
       "  </tbody>\n",
       "</table>\n",
       "<p>10462 rows × 10 columns</p>\n",
       "</div>"
      ],
      "text/plain": [
       "           airline    source destination departure_time arrival_time  \\\n",
       "0           Indigo  Banglore       Delhi       22:20:00     01:10:00   \n",
       "1        Air_India   Kolkata    Banglore       05:50:00     13:15:00   \n",
       "2      Jet_Airways     Delhi      Cochin       09:25:00     04:25:00   \n",
       "3           Indigo   Kolkata    Banglore       18:05:00     23:30:00   \n",
       "4           Indigo  Banglore       Delhi       16:50:00     21:35:00   \n",
       "...            ...       ...         ...            ...          ...   \n",
       "10678     Air_Asia   Kolkata    Banglore       19:55:00     22:25:00   \n",
       "10679    Air_India   Kolkata    Banglore       20:45:00     23:20:00   \n",
       "10680  Jet_Airways  Banglore       Delhi       08:20:00     11:20:00   \n",
       "10681      Vistara  Banglore       Delhi       11:30:00     14:10:00   \n",
       "10682    Air_India     Delhi      Cochin       10:55:00     19:15:00   \n",
       "\n",
       "       duration  total_stops  price  day_of_journey  month_of_journey  \n",
       "0           170            0   3897              24                 3  \n",
       "1           445            2   7662               1                 5  \n",
       "2          1140            2  13882               9                 6  \n",
       "3           325            1   6218              12                 5  \n",
       "4           285            1  13302               1                 3  \n",
       "...         ...          ...    ...             ...               ...  \n",
       "10678       150            0   4107               9                 4  \n",
       "10679       155            0   4145              27                 4  \n",
       "10680       180            0   7229              27                 4  \n",
       "10681       160            0  12648               1                 3  \n",
       "10682       500            2  11753               9                 5  \n",
       "\n",
       "[10462 rows x 10 columns]"
      ]
     },
     "execution_count": 45,
     "metadata": {},
     "output_type": "execute_result"
    }
   ],
   "source": [
    "cleaned_data = data_cleaning(flights_df)\n",
    "\n",
    "cleaned_data"
   ]
  },
  {
   "cell_type": "code",
   "execution_count": 46,
   "id": "ed448447-d52d-4afa-93fb-ecf7784ac1a9",
   "metadata": {},
   "outputs": [],
   "source": [
    "# save the cleaned data\n",
    "\n",
    "cleaned_data.to_csv(r\"D:\\Flight-Price-Prediction\\data\\cleaned_data.csv\")"
   ]
  }
 ],
 "metadata": {
  "kernelspec": {
   "display_name": "Python 3 (ipykernel)",
   "language": "python",
   "name": "python3"
  },
  "language_info": {
   "codemirror_mode": {
    "name": "ipython",
    "version": 3
   },
   "file_extension": ".py",
   "mimetype": "text/x-python",
   "name": "python",
   "nbconvert_exporter": "python",
   "pygments_lexer": "ipython3",
   "version": "3.11.8"
  }
 },
 "nbformat": 4,
 "nbformat_minor": 5
}
