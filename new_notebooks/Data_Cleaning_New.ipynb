{
 "cells": [
  {
   "cell_type": "markdown",
   "id": "fc17ade7-976a-42b9-afae-3368e71d69d0",
   "metadata": {},
   "source": [
    "# Import The Packages"
   ]
  },
  {
   "cell_type": "code",
   "execution_count": 37,
   "id": "f906110e-61aa-49b9-938f-5fc94ead6758",
   "metadata": {},
   "outputs": [],
   "source": [
    "import pandas as pd\n",
    "import numpy as np\n",
    "import matplotlib.pyplot as plt\n",
    "from sklearn.model_selection import train_test_split\n",
    "from pathlib import Path"
   ]
  },
  {
   "cell_type": "markdown",
   "id": "29159add-92e5-4912-bc2a-66c2d6a2348c",
   "metadata": {},
   "source": [
    "# Load the Data"
   ]
  },
  {
   "cell_type": "code",
   "execution_count": 2,
   "id": "47be880b-20df-4ba4-b27c-a74cd3bf2e8f",
   "metadata": {},
   "outputs": [
    {
     "data": {
      "text/html": [
       "<div>\n",
       "<style scoped>\n",
       "    .dataframe tbody tr th:only-of-type {\n",
       "        vertical-align: middle;\n",
       "    }\n",
       "\n",
       "    .dataframe tbody tr th {\n",
       "        vertical-align: top;\n",
       "    }\n",
       "\n",
       "    .dataframe thead th {\n",
       "        text-align: right;\n",
       "    }\n",
       "</style>\n",
       "<table border=\"1\" class=\"dataframe\">\n",
       "  <thead>\n",
       "    <tr style=\"text-align: right;\">\n",
       "      <th></th>\n",
       "      <th>Airline</th>\n",
       "      <th>Date_of_Journey</th>\n",
       "      <th>Source</th>\n",
       "      <th>Destination</th>\n",
       "      <th>Route</th>\n",
       "      <th>Dep_Time</th>\n",
       "      <th>Arrival_Time</th>\n",
       "      <th>Duration</th>\n",
       "      <th>Total_Stops</th>\n",
       "      <th>Additional_Info</th>\n",
       "      <th>Price</th>\n",
       "    </tr>\n",
       "  </thead>\n",
       "  <tbody>\n",
       "    <tr>\n",
       "      <th>0</th>\n",
       "      <td>IndiGo</td>\n",
       "      <td>24/03/2019</td>\n",
       "      <td>Banglore</td>\n",
       "      <td>New Delhi</td>\n",
       "      <td>BLR → DEL</td>\n",
       "      <td>22:20</td>\n",
       "      <td>01:10 22 Mar</td>\n",
       "      <td>2h 50m</td>\n",
       "      <td>non-stop</td>\n",
       "      <td>No info</td>\n",
       "      <td>3897</td>\n",
       "    </tr>\n",
       "    <tr>\n",
       "      <th>1</th>\n",
       "      <td>Air India</td>\n",
       "      <td>1/05/2019</td>\n",
       "      <td>Kolkata</td>\n",
       "      <td>Banglore</td>\n",
       "      <td>CCU → IXR → BBI → BLR</td>\n",
       "      <td>05:50</td>\n",
       "      <td>13:15</td>\n",
       "      <td>7h 25m</td>\n",
       "      <td>2 stops</td>\n",
       "      <td>No info</td>\n",
       "      <td>7662</td>\n",
       "    </tr>\n",
       "    <tr>\n",
       "      <th>2</th>\n",
       "      <td>Jet Airways</td>\n",
       "      <td>9/06/2019</td>\n",
       "      <td>Delhi</td>\n",
       "      <td>Cochin</td>\n",
       "      <td>DEL → LKO → BOM → COK</td>\n",
       "      <td>09:25</td>\n",
       "      <td>04:25 10 Jun</td>\n",
       "      <td>19h</td>\n",
       "      <td>2 stops</td>\n",
       "      <td>No info</td>\n",
       "      <td>13882</td>\n",
       "    </tr>\n",
       "    <tr>\n",
       "      <th>3</th>\n",
       "      <td>IndiGo</td>\n",
       "      <td>12/05/2019</td>\n",
       "      <td>Kolkata</td>\n",
       "      <td>Banglore</td>\n",
       "      <td>CCU → NAG → BLR</td>\n",
       "      <td>18:05</td>\n",
       "      <td>23:30</td>\n",
       "      <td>5h 25m</td>\n",
       "      <td>1 stop</td>\n",
       "      <td>No info</td>\n",
       "      <td>6218</td>\n",
       "    </tr>\n",
       "    <tr>\n",
       "      <th>4</th>\n",
       "      <td>IndiGo</td>\n",
       "      <td>01/03/2019</td>\n",
       "      <td>Banglore</td>\n",
       "      <td>New Delhi</td>\n",
       "      <td>BLR → NAG → DEL</td>\n",
       "      <td>16:50</td>\n",
       "      <td>21:35</td>\n",
       "      <td>4h 45m</td>\n",
       "      <td>1 stop</td>\n",
       "      <td>No info</td>\n",
       "      <td>13302</td>\n",
       "    </tr>\n",
       "  </tbody>\n",
       "</table>\n",
       "</div>"
      ],
      "text/plain": [
       "       Airline Date_of_Journey    Source Destination                  Route  \\\n",
       "0       IndiGo      24/03/2019  Banglore   New Delhi              BLR → DEL   \n",
       "1    Air India       1/05/2019   Kolkata    Banglore  CCU → IXR → BBI → BLR   \n",
       "2  Jet Airways       9/06/2019     Delhi      Cochin  DEL → LKO → BOM → COK   \n",
       "3       IndiGo      12/05/2019   Kolkata    Banglore        CCU → NAG → BLR   \n",
       "4       IndiGo      01/03/2019  Banglore   New Delhi        BLR → NAG → DEL   \n",
       "\n",
       "  Dep_Time  Arrival_Time Duration Total_Stops Additional_Info  Price  \n",
       "0    22:20  01:10 22 Mar   2h 50m    non-stop         No info   3897  \n",
       "1    05:50         13:15   7h 25m     2 stops         No info   7662  \n",
       "2    09:25  04:25 10 Jun      19h     2 stops         No info  13882  \n",
       "3    18:05         23:30   5h 25m      1 stop         No info   6218  \n",
       "4    16:50         21:35   4h 45m      1 stop         No info  13302  "
      ]
     },
     "execution_count": 2,
     "metadata": {},
     "output_type": "execute_result"
    }
   ],
   "source": [
    "data_path = r'D:\\Flight-Price-Prediction\\data\\flight_price.csv'\n",
    "\n",
    "df = pd.read_csv(data_path)\n",
    "\n",
    "df.head()"
   ]
  },
  {
   "cell_type": "markdown",
   "id": "a7ddd3b2-a560-4ce6-bd12-43c85fa72402",
   "metadata": {},
   "source": [
    "## Missing Values"
   ]
  },
  {
   "cell_type": "code",
   "execution_count": 3,
   "id": "5080f55a-a1de-4920-b79d-d39663bb58a8",
   "metadata": {},
   "outputs": [
    {
     "data": {
      "text/plain": [
       "Airline            0\n",
       "Date_of_Journey    0\n",
       "Source             0\n",
       "Destination        0\n",
       "Route              1\n",
       "Dep_Time           0\n",
       "Arrival_Time       0\n",
       "Duration           0\n",
       "Total_Stops        1\n",
       "Additional_Info    0\n",
       "Price              0\n",
       "dtype: int64"
      ]
     },
     "execution_count": 3,
     "metadata": {},
     "output_type": "execute_result"
    }
   ],
   "source": [
    "# check for missing values in the data\n",
    "\n",
    "df.isna().sum()"
   ]
  },
  {
   "cell_type": "code",
   "execution_count": 4,
   "id": "d1b55ea6-01cb-48b5-aa3e-07e17950f51b",
   "metadata": {},
   "outputs": [
    {
     "data": {
      "text/html": [
       "<div>\n",
       "<style scoped>\n",
       "    .dataframe tbody tr th:only-of-type {\n",
       "        vertical-align: middle;\n",
       "    }\n",
       "\n",
       "    .dataframe tbody tr th {\n",
       "        vertical-align: top;\n",
       "    }\n",
       "\n",
       "    .dataframe thead th {\n",
       "        text-align: right;\n",
       "    }\n",
       "</style>\n",
       "<table border=\"1\" class=\"dataframe\">\n",
       "  <thead>\n",
       "    <tr style=\"text-align: right;\">\n",
       "      <th></th>\n",
       "      <th>Airline</th>\n",
       "      <th>Date_of_Journey</th>\n",
       "      <th>Source</th>\n",
       "      <th>Destination</th>\n",
       "      <th>Route</th>\n",
       "      <th>Dep_Time</th>\n",
       "      <th>Arrival_Time</th>\n",
       "      <th>Duration</th>\n",
       "      <th>Total_Stops</th>\n",
       "      <th>Additional_Info</th>\n",
       "      <th>Price</th>\n",
       "    </tr>\n",
       "  </thead>\n",
       "  <tbody>\n",
       "    <tr>\n",
       "      <th>9039</th>\n",
       "      <td>Air India</td>\n",
       "      <td>6/05/2019</td>\n",
       "      <td>Delhi</td>\n",
       "      <td>Cochin</td>\n",
       "      <td>NaN</td>\n",
       "      <td>09:45</td>\n",
       "      <td>09:25 07 May</td>\n",
       "      <td>23h 40m</td>\n",
       "      <td>NaN</td>\n",
       "      <td>No info</td>\n",
       "      <td>7480</td>\n",
       "    </tr>\n",
       "  </tbody>\n",
       "</table>\n",
       "</div>"
      ],
      "text/plain": [
       "        Airline Date_of_Journey Source Destination Route Dep_Time  \\\n",
       "9039  Air India       6/05/2019  Delhi      Cochin   NaN    09:45   \n",
       "\n",
       "      Arrival_Time Duration Total_Stops Additional_Info  Price  \n",
       "9039  09:25 07 May  23h 40m         NaN         No info   7480  "
      ]
     },
     "execution_count": 4,
     "metadata": {},
     "output_type": "execute_result"
    }
   ],
   "source": [
    "# print the rows of data that have missing values\n",
    "\n",
    "(\n",
    "    df.\n",
    "    loc[\n",
    "        df\n",
    "        .isna()\n",
    "        .any(axis=1)\n",
    "    ]\n",
    "   \n",
    ")"
   ]
  },
  {
   "cell_type": "code",
   "execution_count": 5,
   "id": "db2822c0-f1e7-4242-af1f-4308abfd2bea",
   "metadata": {},
   "outputs": [
    {
     "data": {
      "text/html": [
       "<div>\n",
       "<style scoped>\n",
       "    .dataframe tbody tr th:only-of-type {\n",
       "        vertical-align: middle;\n",
       "    }\n",
       "\n",
       "    .dataframe tbody tr th {\n",
       "        vertical-align: top;\n",
       "    }\n",
       "\n",
       "    .dataframe thead th {\n",
       "        text-align: right;\n",
       "    }\n",
       "</style>\n",
       "<table border=\"1\" class=\"dataframe\">\n",
       "  <thead>\n",
       "    <tr style=\"text-align: right;\">\n",
       "      <th></th>\n",
       "      <th>Airline</th>\n",
       "      <th>Date_of_Journey</th>\n",
       "      <th>Source</th>\n",
       "      <th>Destination</th>\n",
       "      <th>Route</th>\n",
       "      <th>Dep_Time</th>\n",
       "      <th>Arrival_Time</th>\n",
       "      <th>Duration</th>\n",
       "      <th>Total_Stops</th>\n",
       "      <th>Additional_Info</th>\n",
       "      <th>Price</th>\n",
       "    </tr>\n",
       "  </thead>\n",
       "  <tbody>\n",
       "    <tr>\n",
       "      <th>9039</th>\n",
       "      <td>Air India</td>\n",
       "      <td>6/05/2019</td>\n",
       "      <td>Delhi</td>\n",
       "      <td>Cochin</td>\n",
       "      <td>No Route Info</td>\n",
       "      <td>09:45</td>\n",
       "      <td>09:25 07 May</td>\n",
       "      <td>23h 40m</td>\n",
       "      <td>0</td>\n",
       "      <td>No info</td>\n",
       "      <td>7480</td>\n",
       "    </tr>\n",
       "  </tbody>\n",
       "</table>\n",
       "</div>"
      ],
      "text/plain": [
       "        Airline Date_of_Journey Source Destination          Route Dep_Time  \\\n",
       "9039  Air India       6/05/2019  Delhi      Cochin  No Route Info    09:45   \n",
       "\n",
       "      Arrival_Time Duration Total_Stops Additional_Info  Price  \n",
       "9039  09:25 07 May  23h 40m           0         No info   7480  "
      ]
     },
     "execution_count": 5,
     "metadata": {},
     "output_type": "execute_result"
    }
   ],
   "source": [
    "# fill the route and total stops in the row\n",
    "\n",
    "(\n",
    "    df\n",
    "    .loc[\n",
    "        df\n",
    "        .isna()\n",
    "        .any(axis=1)\n",
    "    ]\n",
    "    .fillna({\n",
    "        \"Route\":\"No Route Info\",\n",
    "        \"Total_Stops\":\"0\"\n",
    "    })\n",
    "   \n",
    ")"
   ]
  },
  {
   "cell_type": "markdown",
   "id": "7d7b0732-4d4a-4d78-822b-ebd992cc0910",
   "metadata": {},
   "source": [
    "## Duplicate rows"
   ]
  },
  {
   "cell_type": "code",
   "execution_count": 6,
   "id": "398efba0-f3dc-4652-aa44-1b1dbcfd46e9",
   "metadata": {},
   "outputs": [
    {
     "data": {
      "text/plain": [
       "220"
      ]
     },
     "execution_count": 6,
     "metadata": {},
     "output_type": "execute_result"
    }
   ],
   "source": [
    "# check for duplicates in the data\n",
    "\n",
    "(\n",
    "    df\n",
    "    .duplicated()\n",
    "    .sum()\n",
    ")"
   ]
  },
  {
   "cell_type": "markdown",
   "id": "d1977140-f41b-4261-9d54-8dc672bdb086",
   "metadata": {},
   "source": [
    "**There are 220 rows in the data that are duplicate rows**"
   ]
  },
  {
   "cell_type": "code",
   "execution_count": 7,
   "id": "c4179c43-fb77-48c6-8c29-224540b9cac2",
   "metadata": {},
   "outputs": [
    {
     "data": {
      "text/html": [
       "<div>\n",
       "<style scoped>\n",
       "    .dataframe tbody tr th:only-of-type {\n",
       "        vertical-align: middle;\n",
       "    }\n",
       "\n",
       "    .dataframe tbody tr th {\n",
       "        vertical-align: top;\n",
       "    }\n",
       "\n",
       "    .dataframe thead th {\n",
       "        text-align: right;\n",
       "    }\n",
       "</style>\n",
       "<table border=\"1\" class=\"dataframe\">\n",
       "  <thead>\n",
       "    <tr style=\"text-align: right;\">\n",
       "      <th></th>\n",
       "      <th>Airline</th>\n",
       "      <th>Date_of_Journey</th>\n",
       "      <th>Source</th>\n",
       "      <th>Destination</th>\n",
       "      <th>Route</th>\n",
       "      <th>Dep_Time</th>\n",
       "      <th>Arrival_Time</th>\n",
       "      <th>Duration</th>\n",
       "      <th>Total_Stops</th>\n",
       "      <th>Additional_Info</th>\n",
       "      <th>Price</th>\n",
       "    </tr>\n",
       "  </thead>\n",
       "  <tbody>\n",
       "    <tr>\n",
       "      <th>6321</th>\n",
       "      <td>Air India</td>\n",
       "      <td>01/03/2019</td>\n",
       "      <td>Banglore</td>\n",
       "      <td>New Delhi</td>\n",
       "      <td>BLR → BOM → AMD → DEL</td>\n",
       "      <td>08:50</td>\n",
       "      <td>23:55 02 Mar</td>\n",
       "      <td>39h 5m</td>\n",
       "      <td>2 stops</td>\n",
       "      <td>No info</td>\n",
       "      <td>17135</td>\n",
       "    </tr>\n",
       "    <tr>\n",
       "      <th>9848</th>\n",
       "      <td>Air India</td>\n",
       "      <td>01/03/2019</td>\n",
       "      <td>Banglore</td>\n",
       "      <td>New Delhi</td>\n",
       "      <td>BLR → BOM → AMD → DEL</td>\n",
       "      <td>08:50</td>\n",
       "      <td>23:55 02 Mar</td>\n",
       "      <td>39h 5m</td>\n",
       "      <td>2 stops</td>\n",
       "      <td>No info</td>\n",
       "      <td>17135</td>\n",
       "    </tr>\n",
       "    <tr>\n",
       "      <th>572</th>\n",
       "      <td>Air India</td>\n",
       "      <td>03/03/2019</td>\n",
       "      <td>Banglore</td>\n",
       "      <td>New Delhi</td>\n",
       "      <td>BLR → DEL</td>\n",
       "      <td>21:10</td>\n",
       "      <td>23:55</td>\n",
       "      <td>2h 45m</td>\n",
       "      <td>non-stop</td>\n",
       "      <td>No info</td>\n",
       "      <td>7591</td>\n",
       "    </tr>\n",
       "    <tr>\n",
       "      <th>8168</th>\n",
       "      <td>Air India</td>\n",
       "      <td>03/03/2019</td>\n",
       "      <td>Banglore</td>\n",
       "      <td>New Delhi</td>\n",
       "      <td>BLR → DEL</td>\n",
       "      <td>21:10</td>\n",
       "      <td>23:55</td>\n",
       "      <td>2h 45m</td>\n",
       "      <td>non-stop</td>\n",
       "      <td>No info</td>\n",
       "      <td>7591</td>\n",
       "    </tr>\n",
       "    <tr>\n",
       "      <th>1495</th>\n",
       "      <td>Air India</td>\n",
       "      <td>1/04/2019</td>\n",
       "      <td>Kolkata</td>\n",
       "      <td>Banglore</td>\n",
       "      <td>CCU → DEL → COK → BLR</td>\n",
       "      <td>10:00</td>\n",
       "      <td>01:20 02 Apr</td>\n",
       "      <td>15h 20m</td>\n",
       "      <td>2 stops</td>\n",
       "      <td>No info</td>\n",
       "      <td>10408</td>\n",
       "    </tr>\n",
       "    <tr>\n",
       "      <th>9913</th>\n",
       "      <td>Air India</td>\n",
       "      <td>1/04/2019</td>\n",
       "      <td>Kolkata</td>\n",
       "      <td>Banglore</td>\n",
       "      <td>CCU → DEL → COK → BLR</td>\n",
       "      <td>10:00</td>\n",
       "      <td>01:20 02 Apr</td>\n",
       "      <td>15h 20m</td>\n",
       "      <td>2 stops</td>\n",
       "      <td>No info</td>\n",
       "      <td>10408</td>\n",
       "    </tr>\n",
       "    <tr>\n",
       "      <th>4603</th>\n",
       "      <td>Air India</td>\n",
       "      <td>1/05/2019</td>\n",
       "      <td>Kolkata</td>\n",
       "      <td>Banglore</td>\n",
       "      <td>CCU → DEL → COK → BLR</td>\n",
       "      <td>10:00</td>\n",
       "      <td>13:45 02 May</td>\n",
       "      <td>27h 45m</td>\n",
       "      <td>2 stops</td>\n",
       "      <td>No info</td>\n",
       "      <td>15164</td>\n",
       "    </tr>\n",
       "    <tr>\n",
       "      <th>5042</th>\n",
       "      <td>Air India</td>\n",
       "      <td>1/05/2019</td>\n",
       "      <td>Kolkata</td>\n",
       "      <td>Banglore</td>\n",
       "      <td>CCU → DEL → COK → BLR</td>\n",
       "      <td>10:00</td>\n",
       "      <td>13:45 02 May</td>\n",
       "      <td>27h 45m</td>\n",
       "      <td>2 stops</td>\n",
       "      <td>No info</td>\n",
       "      <td>15164</td>\n",
       "    </tr>\n",
       "    <tr>\n",
       "      <th>6377</th>\n",
       "      <td>Air India</td>\n",
       "      <td>1/05/2019</td>\n",
       "      <td>Kolkata</td>\n",
       "      <td>Banglore</td>\n",
       "      <td>CCU → DEL → COK → BLR</td>\n",
       "      <td>10:00</td>\n",
       "      <td>13:45 02 May</td>\n",
       "      <td>27h 45m</td>\n",
       "      <td>2 stops</td>\n",
       "      <td>No info</td>\n",
       "      <td>15164</td>\n",
       "    </tr>\n",
       "    <tr>\n",
       "      <th>3598</th>\n",
       "      <td>Air India</td>\n",
       "      <td>1/05/2019</td>\n",
       "      <td>Kolkata</td>\n",
       "      <td>Banglore</td>\n",
       "      <td>CCU → GAU → DEL → BLR</td>\n",
       "      <td>09:50</td>\n",
       "      <td>08:55 02 May</td>\n",
       "      <td>23h 5m</td>\n",
       "      <td>2 stops</td>\n",
       "      <td>No info</td>\n",
       "      <td>13227</td>\n",
       "    </tr>\n",
       "    <tr>\n",
       "      <th>10183</th>\n",
       "      <td>Air India</td>\n",
       "      <td>1/05/2019</td>\n",
       "      <td>Kolkata</td>\n",
       "      <td>Banglore</td>\n",
       "      <td>CCU → GAU → DEL → BLR</td>\n",
       "      <td>09:50</td>\n",
       "      <td>08:55 02 May</td>\n",
       "      <td>23h 5m</td>\n",
       "      <td>2 stops</td>\n",
       "      <td>No info</td>\n",
       "      <td>13227</td>\n",
       "    </tr>\n",
       "    <tr>\n",
       "      <th>251</th>\n",
       "      <td>Air India</td>\n",
       "      <td>1/06/2019</td>\n",
       "      <td>Delhi</td>\n",
       "      <td>Cochin</td>\n",
       "      <td>DEL → AMD → BOM → COK</td>\n",
       "      <td>19:45</td>\n",
       "      <td>19:15 02 Jun</td>\n",
       "      <td>23h 30m</td>\n",
       "      <td>2 stops</td>\n",
       "      <td>No info</td>\n",
       "      <td>10651</td>\n",
       "    </tr>\n",
       "    <tr>\n",
       "      <th>1982</th>\n",
       "      <td>Air India</td>\n",
       "      <td>1/06/2019</td>\n",
       "      <td>Delhi</td>\n",
       "      <td>Cochin</td>\n",
       "      <td>DEL → AMD → BOM → COK</td>\n",
       "      <td>19:45</td>\n",
       "      <td>19:15 02 Jun</td>\n",
       "      <td>23h 30m</td>\n",
       "      <td>2 stops</td>\n",
       "      <td>No info</td>\n",
       "      <td>10651</td>\n",
       "    </tr>\n",
       "    <tr>\n",
       "      <th>1069</th>\n",
       "      <td>Air India</td>\n",
       "      <td>1/06/2019</td>\n",
       "      <td>Delhi</td>\n",
       "      <td>Cochin</td>\n",
       "      <td>DEL → GOI → BOM → COK</td>\n",
       "      <td>22:00</td>\n",
       "      <td>19:15 02 Jun</td>\n",
       "      <td>21h 15m</td>\n",
       "      <td>2 stops</td>\n",
       "      <td>No info</td>\n",
       "      <td>10441</td>\n",
       "    </tr>\n",
       "    <tr>\n",
       "      <th>7229</th>\n",
       "      <td>Air India</td>\n",
       "      <td>1/06/2019</td>\n",
       "      <td>Delhi</td>\n",
       "      <td>Cochin</td>\n",
       "      <td>DEL → GOI → BOM → COK</td>\n",
       "      <td>22:00</td>\n",
       "      <td>19:15 02 Jun</td>\n",
       "      <td>21h 15m</td>\n",
       "      <td>2 stops</td>\n",
       "      <td>No info</td>\n",
       "      <td>10441</td>\n",
       "    </tr>\n",
       "    <tr>\n",
       "      <th>3311</th>\n",
       "      <td>Air India</td>\n",
       "      <td>1/06/2019</td>\n",
       "      <td>Delhi</td>\n",
       "      <td>Cochin</td>\n",
       "      <td>DEL → HYD → BOM → COK</td>\n",
       "      <td>17:15</td>\n",
       "      <td>19:15 02 Jun</td>\n",
       "      <td>26h</td>\n",
       "      <td>2 stops</td>\n",
       "      <td>No info</td>\n",
       "      <td>12970</td>\n",
       "    </tr>\n",
       "    <tr>\n",
       "      <th>4571</th>\n",
       "      <td>Air India</td>\n",
       "      <td>1/06/2019</td>\n",
       "      <td>Delhi</td>\n",
       "      <td>Cochin</td>\n",
       "      <td>DEL → HYD → BOM → COK</td>\n",
       "      <td>17:15</td>\n",
       "      <td>19:15 02 Jun</td>\n",
       "      <td>26h</td>\n",
       "      <td>2 stops</td>\n",
       "      <td>No info</td>\n",
       "      <td>12970</td>\n",
       "    </tr>\n",
       "    <tr>\n",
       "      <th>5222</th>\n",
       "      <td>Air India</td>\n",
       "      <td>12/03/2019</td>\n",
       "      <td>Banglore</td>\n",
       "      <td>New Delhi</td>\n",
       "      <td>BLR → BOM → NAG → DEL</td>\n",
       "      <td>08:50</td>\n",
       "      <td>10:15 13 Mar</td>\n",
       "      <td>25h 25m</td>\n",
       "      <td>2 stops</td>\n",
       "      <td>No info</td>\n",
       "      <td>12778</td>\n",
       "    </tr>\n",
       "    <tr>\n",
       "      <th>9942</th>\n",
       "      <td>Air India</td>\n",
       "      <td>12/03/2019</td>\n",
       "      <td>Banglore</td>\n",
       "      <td>New Delhi</td>\n",
       "      <td>BLR → BOM → NAG → DEL</td>\n",
       "      <td>08:50</td>\n",
       "      <td>10:15 13 Mar</td>\n",
       "      <td>25h 25m</td>\n",
       "      <td>2 stops</td>\n",
       "      <td>No info</td>\n",
       "      <td>12778</td>\n",
       "    </tr>\n",
       "    <tr>\n",
       "      <th>7869</th>\n",
       "      <td>Air India</td>\n",
       "      <td>12/06/2019</td>\n",
       "      <td>Delhi</td>\n",
       "      <td>Cochin</td>\n",
       "      <td>DEL → GOI → BOM → COK</td>\n",
       "      <td>22:00</td>\n",
       "      <td>19:15 13 Jun</td>\n",
       "      <td>21h 15m</td>\n",
       "      <td>2 stops</td>\n",
       "      <td>No info</td>\n",
       "      <td>10231</td>\n",
       "    </tr>\n",
       "    <tr>\n",
       "      <th>10265</th>\n",
       "      <td>Air India</td>\n",
       "      <td>12/06/2019</td>\n",
       "      <td>Delhi</td>\n",
       "      <td>Cochin</td>\n",
       "      <td>DEL → GOI → BOM → COK</td>\n",
       "      <td>22:00</td>\n",
       "      <td>19:15 13 Jun</td>\n",
       "      <td>21h 15m</td>\n",
       "      <td>2 stops</td>\n",
       "      <td>No info</td>\n",
       "      <td>10231</td>\n",
       "    </tr>\n",
       "    <tr>\n",
       "      <th>4147</th>\n",
       "      <td>Air India</td>\n",
       "      <td>15/05/2019</td>\n",
       "      <td>Delhi</td>\n",
       "      <td>Cochin</td>\n",
       "      <td>DEL → GOI → BOM → COK</td>\n",
       "      <td>22:00</td>\n",
       "      <td>19:15 16 May</td>\n",
       "      <td>21h 15m</td>\n",
       "      <td>2 stops</td>\n",
       "      <td>No info</td>\n",
       "      <td>11281</td>\n",
       "    </tr>\n",
       "    <tr>\n",
       "      <th>7104</th>\n",
       "      <td>Air India</td>\n",
       "      <td>15/05/2019</td>\n",
       "      <td>Delhi</td>\n",
       "      <td>Cochin</td>\n",
       "      <td>DEL → GOI → BOM → COK</td>\n",
       "      <td>22:00</td>\n",
       "      <td>19:15 16 May</td>\n",
       "      <td>21h 15m</td>\n",
       "      <td>2 stops</td>\n",
       "      <td>No info</td>\n",
       "      <td>11281</td>\n",
       "    </tr>\n",
       "    <tr>\n",
       "      <th>8383</th>\n",
       "      <td>Air India</td>\n",
       "      <td>15/05/2019</td>\n",
       "      <td>Delhi</td>\n",
       "      <td>Cochin</td>\n",
       "      <td>DEL → GOI → BOM → COK</td>\n",
       "      <td>22:00</td>\n",
       "      <td>19:15 16 May</td>\n",
       "      <td>21h 15m</td>\n",
       "      <td>2 stops</td>\n",
       "      <td>No info</td>\n",
       "      <td>11281</td>\n",
       "    </tr>\n",
       "    <tr>\n",
       "      <th>2276</th>\n",
       "      <td>Air India</td>\n",
       "      <td>15/05/2019</td>\n",
       "      <td>Kolkata</td>\n",
       "      <td>Banglore</td>\n",
       "      <td>CCU → DEL → COK → BLR</td>\n",
       "      <td>10:00</td>\n",
       "      <td>13:45 16 May</td>\n",
       "      <td>27h 45m</td>\n",
       "      <td>2 stops</td>\n",
       "      <td>No info</td>\n",
       "      <td>16057</td>\n",
       "    </tr>\n",
       "    <tr>\n",
       "      <th>5014</th>\n",
       "      <td>Air India</td>\n",
       "      <td>15/05/2019</td>\n",
       "      <td>Kolkata</td>\n",
       "      <td>Banglore</td>\n",
       "      <td>CCU → DEL → COK → BLR</td>\n",
       "      <td>10:00</td>\n",
       "      <td>13:45 16 May</td>\n",
       "      <td>27h 45m</td>\n",
       "      <td>2 stops</td>\n",
       "      <td>No info</td>\n",
       "      <td>16057</td>\n",
       "    </tr>\n",
       "    <tr>\n",
       "      <th>1786</th>\n",
       "      <td>Air India</td>\n",
       "      <td>15/06/2019</td>\n",
       "      <td>Delhi</td>\n",
       "      <td>Cochin</td>\n",
       "      <td>DEL → AMD → BOM → COK</td>\n",
       "      <td>19:45</td>\n",
       "      <td>19:15 16 Jun</td>\n",
       "      <td>23h 30m</td>\n",
       "      <td>2 stops</td>\n",
       "      <td>No info</td>\n",
       "      <td>9653</td>\n",
       "    </tr>\n",
       "    <tr>\n",
       "      <th>2595</th>\n",
       "      <td>Air India</td>\n",
       "      <td>15/06/2019</td>\n",
       "      <td>Delhi</td>\n",
       "      <td>Cochin</td>\n",
       "      <td>DEL → AMD → BOM → COK</td>\n",
       "      <td>19:45</td>\n",
       "      <td>19:15 16 Jun</td>\n",
       "      <td>23h 30m</td>\n",
       "      <td>2 stops</td>\n",
       "      <td>No info</td>\n",
       "      <td>9653</td>\n",
       "    </tr>\n",
       "    <tr>\n",
       "      <th>7277</th>\n",
       "      <td>Air India</td>\n",
       "      <td>18/05/2019</td>\n",
       "      <td>Delhi</td>\n",
       "      <td>Cochin</td>\n",
       "      <td>DEL → AMD → BOM → COK</td>\n",
       "      <td>19:45</td>\n",
       "      <td>19:15 19 May</td>\n",
       "      <td>23h 30m</td>\n",
       "      <td>2 stops</td>\n",
       "      <td>No info</td>\n",
       "      <td>10651</td>\n",
       "    </tr>\n",
       "    <tr>\n",
       "      <th>8381</th>\n",
       "      <td>Air India</td>\n",
       "      <td>18/05/2019</td>\n",
       "      <td>Delhi</td>\n",
       "      <td>Cochin</td>\n",
       "      <td>DEL → AMD → BOM → COK</td>\n",
       "      <td>16:40</td>\n",
       "      <td>19:15 19 May</td>\n",
       "      <td>26h 35m</td>\n",
       "      <td>2 stops</td>\n",
       "      <td>No info</td>\n",
       "      <td>9863</td>\n",
       "    </tr>\n",
       "  </tbody>\n",
       "</table>\n",
       "</div>"
      ],
      "text/plain": [
       "         Airline Date_of_Journey    Source Destination                  Route  \\\n",
       "6321   Air India      01/03/2019  Banglore   New Delhi  BLR → BOM → AMD → DEL   \n",
       "9848   Air India      01/03/2019  Banglore   New Delhi  BLR → BOM → AMD → DEL   \n",
       "572    Air India      03/03/2019  Banglore   New Delhi              BLR → DEL   \n",
       "8168   Air India      03/03/2019  Banglore   New Delhi              BLR → DEL   \n",
       "1495   Air India       1/04/2019   Kolkata    Banglore  CCU → DEL → COK → BLR   \n",
       "9913   Air India       1/04/2019   Kolkata    Banglore  CCU → DEL → COK → BLR   \n",
       "4603   Air India       1/05/2019   Kolkata    Banglore  CCU → DEL → COK → BLR   \n",
       "5042   Air India       1/05/2019   Kolkata    Banglore  CCU → DEL → COK → BLR   \n",
       "6377   Air India       1/05/2019   Kolkata    Banglore  CCU → DEL → COK → BLR   \n",
       "3598   Air India       1/05/2019   Kolkata    Banglore  CCU → GAU → DEL → BLR   \n",
       "10183  Air India       1/05/2019   Kolkata    Banglore  CCU → GAU → DEL → BLR   \n",
       "251    Air India       1/06/2019     Delhi      Cochin  DEL → AMD → BOM → COK   \n",
       "1982   Air India       1/06/2019     Delhi      Cochin  DEL → AMD → BOM → COK   \n",
       "1069   Air India       1/06/2019     Delhi      Cochin  DEL → GOI → BOM → COK   \n",
       "7229   Air India       1/06/2019     Delhi      Cochin  DEL → GOI → BOM → COK   \n",
       "3311   Air India       1/06/2019     Delhi      Cochin  DEL → HYD → BOM → COK   \n",
       "4571   Air India       1/06/2019     Delhi      Cochin  DEL → HYD → BOM → COK   \n",
       "5222   Air India      12/03/2019  Banglore   New Delhi  BLR → BOM → NAG → DEL   \n",
       "9942   Air India      12/03/2019  Banglore   New Delhi  BLR → BOM → NAG → DEL   \n",
       "7869   Air India      12/06/2019     Delhi      Cochin  DEL → GOI → BOM → COK   \n",
       "10265  Air India      12/06/2019     Delhi      Cochin  DEL → GOI → BOM → COK   \n",
       "4147   Air India      15/05/2019     Delhi      Cochin  DEL → GOI → BOM → COK   \n",
       "7104   Air India      15/05/2019     Delhi      Cochin  DEL → GOI → BOM → COK   \n",
       "8383   Air India      15/05/2019     Delhi      Cochin  DEL → GOI → BOM → COK   \n",
       "2276   Air India      15/05/2019   Kolkata    Banglore  CCU → DEL → COK → BLR   \n",
       "5014   Air India      15/05/2019   Kolkata    Banglore  CCU → DEL → COK → BLR   \n",
       "1786   Air India      15/06/2019     Delhi      Cochin  DEL → AMD → BOM → COK   \n",
       "2595   Air India      15/06/2019     Delhi      Cochin  DEL → AMD → BOM → COK   \n",
       "7277   Air India      18/05/2019     Delhi      Cochin  DEL → AMD → BOM → COK   \n",
       "8381   Air India      18/05/2019     Delhi      Cochin  DEL → AMD → BOM → COK   \n",
       "\n",
       "      Dep_Time  Arrival_Time Duration Total_Stops Additional_Info  Price  \n",
       "6321     08:50  23:55 02 Mar   39h 5m     2 stops         No info  17135  \n",
       "9848     08:50  23:55 02 Mar   39h 5m     2 stops         No info  17135  \n",
       "572      21:10         23:55   2h 45m    non-stop         No info   7591  \n",
       "8168     21:10         23:55   2h 45m    non-stop         No info   7591  \n",
       "1495     10:00  01:20 02 Apr  15h 20m     2 stops         No info  10408  \n",
       "9913     10:00  01:20 02 Apr  15h 20m     2 stops         No info  10408  \n",
       "4603     10:00  13:45 02 May  27h 45m     2 stops         No info  15164  \n",
       "5042     10:00  13:45 02 May  27h 45m     2 stops         No info  15164  \n",
       "6377     10:00  13:45 02 May  27h 45m     2 stops         No info  15164  \n",
       "3598     09:50  08:55 02 May   23h 5m     2 stops         No info  13227  \n",
       "10183    09:50  08:55 02 May   23h 5m     2 stops         No info  13227  \n",
       "251      19:45  19:15 02 Jun  23h 30m     2 stops         No info  10651  \n",
       "1982     19:45  19:15 02 Jun  23h 30m     2 stops         No info  10651  \n",
       "1069     22:00  19:15 02 Jun  21h 15m     2 stops         No info  10441  \n",
       "7229     22:00  19:15 02 Jun  21h 15m     2 stops         No info  10441  \n",
       "3311     17:15  19:15 02 Jun      26h     2 stops         No info  12970  \n",
       "4571     17:15  19:15 02 Jun      26h     2 stops         No info  12970  \n",
       "5222     08:50  10:15 13 Mar  25h 25m     2 stops         No info  12778  \n",
       "9942     08:50  10:15 13 Mar  25h 25m     2 stops         No info  12778  \n",
       "7869     22:00  19:15 13 Jun  21h 15m     2 stops         No info  10231  \n",
       "10265    22:00  19:15 13 Jun  21h 15m     2 stops         No info  10231  \n",
       "4147     22:00  19:15 16 May  21h 15m     2 stops         No info  11281  \n",
       "7104     22:00  19:15 16 May  21h 15m     2 stops         No info  11281  \n",
       "8383     22:00  19:15 16 May  21h 15m     2 stops         No info  11281  \n",
       "2276     10:00  13:45 16 May  27h 45m     2 stops         No info  16057  \n",
       "5014     10:00  13:45 16 May  27h 45m     2 stops         No info  16057  \n",
       "1786     19:45  19:15 16 Jun  23h 30m     2 stops         No info   9653  \n",
       "2595     19:45  19:15 16 Jun  23h 30m     2 stops         No info   9653  \n",
       "7277     19:45  19:15 19 May  23h 30m     2 stops         No info  10651  \n",
       "8381     16:40  19:15 19 May  26h 35m     2 stops         No info   9863  "
      ]
     },
     "execution_count": 7,
     "metadata": {},
     "output_type": "execute_result"
    }
   ],
   "source": [
    "# check what rows are duplicated\n",
    "\n",
    "(\n",
    "    df\n",
    "    .loc[\n",
    "        df\n",
    "        .duplicated(keep=False)\n",
    "    ]\n",
    "    .sort_values(by=df.columns[:5].to_list())\n",
    "    .head(30)\n",
    ")"
   ]
  },
  {
   "cell_type": "markdown",
   "id": "61ee8338-7fdb-4d0a-a1b2-98ba7ead4a44",
   "metadata": {},
   "source": [
    "**Here we an look at the duplicate entries**"
   ]
  },
  {
   "cell_type": "markdown",
   "id": "80961f6b-deb0-4e41-9bcd-12afa6000a38",
   "metadata": {},
   "source": [
    "## Data Types of columns\n"
   ]
  },
  {
   "cell_type": "code",
   "execution_count": 8,
   "id": "24944e75-dc30-4aea-8448-f44a2cdd7d14",
   "metadata": {},
   "outputs": [
    {
     "data": {
      "text/plain": [
       "Airline            object\n",
       "Date_of_Journey    object\n",
       "Source             object\n",
       "Destination        object\n",
       "Route              object\n",
       "Dep_Time           object\n",
       "Arrival_Time       object\n",
       "Duration           object\n",
       "Total_Stops        object\n",
       "Additional_Info    object\n",
       "Price               int64\n",
       "dtype: object"
      ]
     },
     "execution_count": 8,
     "metadata": {},
     "output_type": "execute_result"
    }
   ],
   "source": [
    "(\n",
    "    df\n",
    "    .dtypes\n",
    ")"
   ]
  },
  {
   "cell_type": "markdown",
   "id": "b24c9f75-f8ac-4dd6-a7a8-07698cf36130",
   "metadata": {},
   "source": [
    "**All the columns are object and only the target `price` column is integer**\n",
    "\n",
    "1. `Date_of_Journey` should be a datetime column.\n",
    "2. `Dep_Time` and `Arrival_Time` should also carry the time information.\n",
    "3. `Duration` should be a number column.\n",
    "4. `Total_Stops` also seems to be an integer type column."
   ]
  },
  {
   "cell_type": "markdown",
   "id": "72853dd4-3051-42c1-928b-d144ee85a68f",
   "metadata": {},
   "source": [
    "# Data Cleaning column by column"
   ]
  },
  {
   "cell_type": "markdown",
   "id": "c8a23f94-0b3a-4994-a025-4342992cd26a",
   "metadata": {},
   "source": [
    "### Airline"
   ]
  },
  {
   "cell_type": "code",
   "execution_count": 9,
   "id": "298b16a6-31f0-451d-acda-2fa4b013fe20",
   "metadata": {},
   "outputs": [
    {
     "data": {
      "text/plain": [
       "array(['Indigo', 'Air_India', 'Jet_Airways', 'Spicejet',\n",
       "       'Multiple_Carriers', 'Goair', 'Vistara', 'Air_Asia', 'Trujet'],\n",
       "      dtype=object)"
      ]
     },
     "execution_count": 9,
     "metadata": {},
     "output_type": "execute_result"
    }
   ],
   "source": [
    "(\n",
    "    df\n",
    "    .loc[:,'Airline']\n",
    "    .str.replace(\" Premium economy\",\"\")\n",
    "    .str.replace(\" Business\",\"\")\n",
    "    .str.title()\n",
    "    .str.replace(\" \",\"_\")\n",
    "    .unique()\n",
    ")"
   ]
  },
  {
   "cell_type": "code",
   "execution_count": 10,
   "id": "e693cabb-18bd-456e-972f-5b8d126efb30",
   "metadata": {},
   "outputs": [
    {
     "data": {
      "text/plain": [
       "0             Indigo\n",
       "1          Air_India\n",
       "2        Jet_Airways\n",
       "3             Indigo\n",
       "4             Indigo\n",
       "            ...     \n",
       "10678       Air_Asia\n",
       "10679      Air_India\n",
       "10680    Jet_Airways\n",
       "10681        Vistara\n",
       "10682      Air_India\n",
       "Name: Airline, Length: 10683, dtype: object"
      ]
     },
     "execution_count": 10,
     "metadata": {},
     "output_type": "execute_result"
    }
   ],
   "source": [
    "(\n",
    "    df\n",
    "    .loc[:,'Airline']\n",
    "    .str.replace(\" Premium economy\",\"\")\n",
    "    .str.replace(\" Business\",\"\")\n",
    "    .str.title()\n",
    "    .str.replace(\" \",\"_\")\n",
    ")"
   ]
  },
  {
   "cell_type": "markdown",
   "id": "5637b933-8db3-41d6-8936-4bb964b6a71f",
   "metadata": {},
   "source": [
    "### Date of Journey"
   ]
  },
  {
   "cell_type": "code",
   "execution_count": 11,
   "id": "de309261-c00d-49c0-9d8f-3734e3e6c630",
   "metadata": {},
   "outputs": [
    {
     "data": {
      "text/plain": [
       "0       2019-03-24\n",
       "1       2019-05-01\n",
       "2       2019-06-09\n",
       "3       2019-05-12\n",
       "4       2019-03-01\n",
       "           ...    \n",
       "10678   2019-04-09\n",
       "10679   2019-04-27\n",
       "10680   2019-04-27\n",
       "10681   2019-03-01\n",
       "10682   2019-05-09\n",
       "Name: Date_of_Journey, Length: 10683, dtype: datetime64[ns]"
      ]
     },
     "execution_count": 11,
     "metadata": {},
     "output_type": "execute_result"
    }
   ],
   "source": [
    "(\n",
    "    pd\n",
    "    .to_datetime(\n",
    "        df.loc[:,'Date_of_Journey'], dayfirst=True\n",
    "    )\n",
    ")"
   ]
  },
  {
   "cell_type": "markdown",
   "id": "98e463c0-ff20-440c-bcb5-6794af242e4b",
   "metadata": {},
   "source": [
    "### Source"
   ]
  },
  {
   "cell_type": "code",
   "execution_count": 12,
   "id": "d79d5c30-abf4-470d-8ccc-024599e2c4d2",
   "metadata": {},
   "outputs": [
    {
     "data": {
      "text/plain": [
       "array(['Banglore', 'Kolkata', 'Delhi', 'Chennai', 'Mumbai'], dtype=object)"
      ]
     },
     "execution_count": 12,
     "metadata": {},
     "output_type": "execute_result"
    }
   ],
   "source": [
    "(\n",
    "    df\n",
    "    .loc[:,'Source']\n",
    "    .unique()\n",
    ")"
   ]
  },
  {
   "cell_type": "markdown",
   "id": "b772b348-c3bd-4e7d-a6ec-2f0ea243aaf0",
   "metadata": {},
   "source": [
    "### Destination"
   ]
  },
  {
   "cell_type": "code",
   "execution_count": 13,
   "id": "f389a372-4749-4d1a-aefe-ba0aea53a8e0",
   "metadata": {},
   "outputs": [
    {
     "data": {
      "text/plain": [
       "array(['Delhi', 'Banglore', 'Cochin', 'Kolkata', 'Hyderabad'],\n",
       "      dtype=object)"
      ]
     },
     "execution_count": 13,
     "metadata": {},
     "output_type": "execute_result"
    }
   ],
   "source": [
    "(\n",
    "    df\n",
    "    .loc[:,'Destination']\n",
    "    .str.replace(\"New \",\"\")\n",
    "    .unique()\n",
    ")"
   ]
  },
  {
   "cell_type": "markdown",
   "id": "a54ff6d4-7681-41ff-8ed7-956cc8bf6d4c",
   "metadata": {},
   "source": [
    "### Dep_time"
   ]
  },
  {
   "cell_type": "code",
   "execution_count": 14,
   "id": "173d01f1-2ba8-4d15-9b4f-38c3128246c9",
   "metadata": {},
   "outputs": [
    {
     "data": {
      "text/plain": [
       "Index(['Airline', 'Date_of_Journey', 'Source', 'Destination', 'Route',\n",
       "       'Dep_Time', 'Arrival_Time', 'Duration', 'Total_Stops',\n",
       "       'Additional_Info', 'Price'],\n",
       "      dtype='object')"
      ]
     },
     "execution_count": 14,
     "metadata": {},
     "output_type": "execute_result"
    }
   ],
   "source": [
    "df.columns"
   ]
  },
  {
   "cell_type": "code",
   "execution_count": 15,
   "id": "6a82bb71-d85d-420e-8f05-9ef1fc3f3c33",
   "metadata": {},
   "outputs": [
    {
     "data": {
      "text/plain": [
       "0"
      ]
     },
     "execution_count": 15,
     "metadata": {},
     "output_type": "execute_result"
    }
   ],
   "source": [
    "(\n",
    "    df\n",
    "    .loc[:,'Dep_Time']\n",
    "    .str.contains(\"[^0-9:]\",regex=True)\n",
    "    .sum()\n",
    ")"
   ]
  },
  {
   "cell_type": "code",
   "execution_count": 16,
   "id": "1d3db36c-b680-40ef-b67e-e68d78c78994",
   "metadata": {},
   "outputs": [
    {
     "data": {
      "text/plain": [
       "Series([], Name: Dep_Time, dtype: object)"
      ]
     },
     "execution_count": 16,
     "metadata": {},
     "output_type": "execute_result"
    }
   ],
   "source": [
    "(\n",
    "    df\n",
    "    .loc[\n",
    "    df\n",
    "    .Dep_Time\n",
    "    .str.contains(\"[^0-9:]\"),\n",
    "    'Dep_Time'\n",
    "    ]\n",
    ")"
   ]
  },
  {
   "cell_type": "code",
   "execution_count": 17,
   "id": "1dee171a-6a8e-494e-b8b8-ad5682abe2f6",
   "metadata": {},
   "outputs": [
    {
     "data": {
      "text/plain": [
       "0        22:20:00\n",
       "1        05:50:00\n",
       "2        09:25:00\n",
       "3        18:05:00\n",
       "4        16:50:00\n",
       "           ...   \n",
       "10678    19:55:00\n",
       "10679    20:45:00\n",
       "10680    08:20:00\n",
       "10681    11:30:00\n",
       "10682    10:55:00\n",
       "Name: Dep_Time, Length: 10683, dtype: object"
      ]
     },
     "execution_count": 17,
     "metadata": {},
     "output_type": "execute_result"
    }
   ],
   "source": [
    "(\n",
    "    pd\n",
    "    .to_datetime(df.loc[:,'Dep_Time'],format='mixed')\n",
    "    .dt.time\n",
    ")"
   ]
  },
  {
   "cell_type": "markdown",
   "id": "60eda533-bf53-494a-ae40-1fb7412b54b4",
   "metadata": {},
   "source": [
    "### Arrival_time"
   ]
  },
  {
   "cell_type": "code",
   "execution_count": 18,
   "id": "f93e8b6a-80f9-4efc-becd-c2b0a8987838",
   "metadata": {},
   "outputs": [
    {
     "data": {
      "text/plain": [
       "0        22 Mar\n",
       "2        10 Jun\n",
       "6        13 Mar\n",
       "7        02 Mar\n",
       "8        13 Mar\n",
       "          ...  \n",
       "10666    13 Jun\n",
       "10667    13 Mar\n",
       "10672    28 Jun\n",
       "10673    28 May\n",
       "10674    13 Mar\n",
       "Name: Arrival_Time, Length: 4335, dtype: object"
      ]
     },
     "execution_count": 18,
     "metadata": {},
     "output_type": "execute_result"
    }
   ],
   "source": [
    "(\n",
    "    df\n",
    "    .loc[\n",
    "    df\n",
    "    .Arrival_Time\n",
    "    .str.contains(\"[^0-9:]\",regex=True)\n",
    "    ,'Arrival_Time']\n",
    "    .str.split(\" \",n=1)\n",
    "    .str.get(-1)\n",
    ")"
   ]
  },
  {
   "cell_type": "code",
   "execution_count": 19,
   "id": "4f1c481a-a6e1-450f-8dc3-4a73f4fc4d69",
   "metadata": {},
   "outputs": [
    {
     "data": {
      "text/plain": [
       "(4335,)"
      ]
     },
     "execution_count": 19,
     "metadata": {},
     "output_type": "execute_result"
    }
   ],
   "source": [
    "(\n",
    "    df\n",
    "    .loc[\n",
    "    df\n",
    "    .Arrival_Time\n",
    "    .str.contains(\"[^0-9:]\",regex=True)\n",
    "    ,'Arrival_Time']\n",
    "    .str.split(\" \",n=1)\n",
    "    .str.get(-1)\n",
    "    .shape\n",
    ")"
   ]
  },
  {
   "cell_type": "markdown",
   "id": "c62d001e-a8fe-4fb6-99dc-3b1aa8257303",
   "metadata": {},
   "source": [
    "**Only 4335 rows contains the date information. Just because we have the date of journey, this infomation can be removed from the column**"
   ]
  },
  {
   "cell_type": "code",
   "execution_count": 20,
   "id": "490d6a79-47f9-4171-adae-1a29381505b7",
   "metadata": {},
   "outputs": [
    {
     "data": {
      "text/plain": [
       "0        01:10:00\n",
       "1        13:15:00\n",
       "2        04:25:00\n",
       "3        23:30:00\n",
       "4        21:35:00\n",
       "           ...   \n",
       "10678    22:25:00\n",
       "10679    23:20:00\n",
       "10680    11:20:00\n",
       "10681    14:10:00\n",
       "10682    19:15:00\n",
       "Name: Arrival_Time, Length: 10683, dtype: object"
      ]
     },
     "execution_count": 20,
     "metadata": {},
     "output_type": "execute_result"
    }
   ],
   "source": [
    "(\n",
    "    pd\n",
    "    .to_datetime(df.Arrival_Time,format='mixed').dt.time\n",
    ")"
   ]
  },
  {
   "cell_type": "markdown",
   "id": "5bf60383-4c42-4ef8-9369-74f71c77cb38",
   "metadata": {
    "editable": true,
    "slideshow": {
     "slide_type": ""
    },
    "tags": []
   },
   "source": [
    "### Duration"
   ]
  },
  {
   "cell_type": "code",
   "execution_count": 21,
   "id": "9bb0915b-be7e-41fa-b248-6198f5a631e7",
   "metadata": {},
   "outputs": [
    {
     "data": {
      "text/plain": [
       "0        2h 50m\n",
       "1        7h 25m\n",
       "2           19h\n",
       "3        5h 25m\n",
       "4        4h 45m\n",
       "          ...  \n",
       "10678    2h 30m\n",
       "10679    2h 35m\n",
       "10680        3h\n",
       "10681    2h 40m\n",
       "10682    8h 20m\n",
       "Name: Duration, Length: 10683, dtype: object"
      ]
     },
     "execution_count": 21,
     "metadata": {},
     "output_type": "execute_result"
    }
   ],
   "source": [
    "(\n",
    "    df\n",
    "    .Duration\n",
    ")"
   ]
  },
  {
   "cell_type": "code",
   "execution_count": 22,
   "id": "1dadfc8b-4c8f-4d0c-8943-7a334bfaadd5",
   "metadata": {},
   "outputs": [
    {
     "data": {
      "text/plain": [
       "6474    5m\n",
       "Name: Duration, dtype: object"
      ]
     },
     "execution_count": 22,
     "metadata": {},
     "output_type": "execute_result"
    }
   ],
   "source": [
    "(\n",
    "    df\n",
    "    .Duration\n",
    "    .loc[\n",
    "    lambda ser : ~(\n",
    "        ser\n",
    "        .str.contains('h')\n",
    "    )\n",
    "    ]\n",
    ")"
   ]
  },
  {
   "cell_type": "markdown",
   "id": "1e406636-7c1f-41f8-9579-e72bdba10bdf",
   "metadata": {},
   "source": [
    "**A flight duration of 5m does not seems logical and lets investigate further**"
   ]
  },
  {
   "cell_type": "code",
   "execution_count": 23,
   "id": "9773c7f7-3891-41f7-aef9-81c52e00ea99",
   "metadata": {},
   "outputs": [
    {
     "data": {
      "text/plain": [
       "0        False\n",
       "1        False\n",
       "2        False\n",
       "3        False\n",
       "4        False\n",
       "         ...  \n",
       "10678    False\n",
       "10679    False\n",
       "10680    False\n",
       "10681    False\n",
       "10682    False\n",
       "Name: Duration, Length: 10683, dtype: bool"
      ]
     },
     "execution_count": 23,
     "metadata": {},
     "output_type": "execute_result"
    }
   ],
   "source": [
    "(\n",
    "    ~df\n",
    "    .Duration\n",
    "    .str.contains('h')\n",
    ")\n"
   ]
  },
  {
   "cell_type": "code",
   "execution_count": 24,
   "id": "511ecccc-77c8-4d47-aec0-3798aeb42938",
   "metadata": {},
   "outputs": [
    {
     "data": {
      "text/plain": [
       "Index([6474], dtype='int64')"
      ]
     },
     "execution_count": 24,
     "metadata": {},
     "output_type": "execute_result"
    }
   ],
   "source": [
    "(\n",
    "    df\n",
    "    .loc[\n",
    "        ~df\n",
    "        .Duration\n",
    "        .str.contains('h')\n",
    "    ]\n",
    "    .index\n",
    ")"
   ]
  },
  {
   "cell_type": "code",
   "execution_count": 25,
   "id": "658c281e-b950-4d1b-9938-c237c65d327e",
   "metadata": {},
   "outputs": [
    {
     "data": {
      "text/plain": [
       "array(['19h', '23h', '22h', '12h', '3h', '5h', '10h', '18h', '24h', '15h',\n",
       "       '16h', '8h', '14h', '20h', '13h', '11h', '9h', '27h', '26h', '4h',\n",
       "       '7h', '30h', '21h', '28h', '47h', '6h', '25h', '38h', '34h'],\n",
       "      dtype=object)"
      ]
     },
     "execution_count": 25,
     "metadata": {},
     "output_type": "execute_result"
    }
   ],
   "source": [
    "(\n",
    "    df\n",
    "    .Duration\n",
    "    .loc[\n",
    "    lambda ser : ~(\n",
    "        ser\n",
    "        .str.contains('m')\n",
    "    )\n",
    "    ]\n",
    "    .unique()\n",
    ")"
   ]
  },
  {
   "cell_type": "markdown",
   "id": "8ca959c7-1655-4e94-9f8a-7bfce3db053b",
   "metadata": {},
   "source": [
    "**The individual hour values seems to be fine and no cleaning required**"
   ]
  },
  {
   "cell_type": "code",
   "execution_count": 26,
   "id": "0c5dce9c-2e09-4db9-9e10-1e04f5397dac",
   "metadata": {},
   "outputs": [
    {
     "data": {
      "text/plain": [
       "0         170\n",
       "1         445\n",
       "2        1140\n",
       "3         325\n",
       "4         285\n",
       "         ... \n",
       "10678     150\n",
       "10679     155\n",
       "10680     180\n",
       "10681     160\n",
       "10682     500\n",
       "Length: 10682, dtype: int64"
      ]
     },
     "execution_count": 26,
     "metadata": {},
     "output_type": "execute_result"
    }
   ],
   "source": [
    "(\n",
    "    df\n",
    "    .Duration\n",
    "    .drop(index=[6474])\n",
    "    .str.split(\" \",expand=True)\n",
    "    .set_axis(['hours','minutes'],axis=1)\n",
    "    .assign(**{\n",
    "        'hours': lambda df_ : (\n",
    "            df_\n",
    "            .hours\n",
    "            .str.replace(\"h\",\"\")\n",
    "            .astype(int)\n",
    "            .mul(60)\n",
    "        ),\n",
    "        'minutes': lambda df_ : (\n",
    "            df_\n",
    "            .minutes\n",
    "            .str.replace('m',\"\")\n",
    "            .fillna(\"0\")\n",
    "            .astype('int')\n",
    "        )\n",
    "        }\n",
    "    )\n",
    "    .sum(axis=1)\n",
    ")"
   ]
  },
  {
   "cell_type": "code",
   "execution_count": 27,
   "id": "337d9e1d-1bd0-4b7b-a946-a28f78208bc6",
   "metadata": {},
   "outputs": [],
   "source": [
    "def duration_in_minutes(ser):\n",
    "    return (\n",
    "        ser\n",
    "        .str.split(\" \",expand=True)\n",
    "        .set_axis(['hours','minutes'],axis=1)\n",
    "        .assign(**{\n",
    "            'hours': lambda df_ : (\n",
    "                df_\n",
    "                .hours\n",
    "                .str.replace(\"h\",\"\")\n",
    "                .astype(int)\n",
    "                .mul(60)\n",
    "            ),\n",
    "            'minutes': lambda df_ : (\n",
    "                df_\n",
    "                .minutes\n",
    "                .str.replace('m',\"\")\n",
    "                .fillna(\"0\")\n",
    "                .astype('int')\n",
    "            )\n",
    "            }\n",
    "        )\n",
    "        .sum(axis=1)\n",
    "    )"
   ]
  },
  {
   "cell_type": "markdown",
   "id": "5c744741-7a10-4960-a606-162111c8719b",
   "metadata": {},
   "source": [
    "### Total_stops"
   ]
  },
  {
   "cell_type": "code",
   "execution_count": 28,
   "id": "08226658-3d49-43aa-8057-92768514fb6d",
   "metadata": {},
   "outputs": [
    {
     "data": {
      "text/plain": [
       "0        0\n",
       "1        2\n",
       "2        2\n",
       "3        1\n",
       "4        1\n",
       "        ..\n",
       "10678    0\n",
       "10679    0\n",
       "10680    0\n",
       "10681    0\n",
       "10682    2\n",
       "Name: Total_Stops, Length: 10683, dtype: int32"
      ]
     },
     "execution_count": 28,
     "metadata": {},
     "output_type": "execute_result"
    }
   ],
   "source": [
    "(\n",
    "    df\n",
    "    .Total_Stops\n",
    "    .str.replace(\"non-stop\",\"0\")\n",
    "    .str.replace(\" stops?\",\"\",regex=True)\n",
    "    .fillna(\"0\")\n",
    "    .astype(int)\n",
    ")"
   ]
  },
  {
   "cell_type": "markdown",
   "id": "608e7c0a-cd6d-4056-926e-4279562ed9f8",
   "metadata": {},
   "source": [
    "### Additional_Info"
   ]
  },
  {
   "cell_type": "code",
   "execution_count": 29,
   "id": "88010f16-a3a5-4d9e-8dd9-5d425dcaf787",
   "metadata": {},
   "outputs": [
    {
     "data": {
      "text/plain": [
       "9"
      ]
     },
     "execution_count": 29,
     "metadata": {},
     "output_type": "execute_result"
    }
   ],
   "source": [
    "(\n",
    "    df\n",
    "    .Additional_Info\n",
    "    .str.replace('No info',\"No Info\")\n",
    "    .nunique()\n",
    ")"
   ]
  },
  {
   "cell_type": "code",
   "execution_count": null,
   "id": "6076f767-1b1e-48c5-81a9-851b7c880c99",
   "metadata": {},
   "outputs": [],
   "source": []
  },
  {
   "cell_type": "code",
   "execution_count": null,
   "id": "8347c287-e7d8-403a-b463-e5b1a6614fbe",
   "metadata": {},
   "outputs": [],
   "source": []
  },
  {
   "cell_type": "markdown",
   "id": "cce01810-b1c6-4cc6-8d29-e282aba7c12b",
   "metadata": {},
   "source": [
    "# Data Cleaning process"
   ]
  },
  {
   "cell_type": "code",
   "execution_count": 30,
   "id": "5221545b-15ca-4cb8-8ce4-7104752677eb",
   "metadata": {},
   "outputs": [],
   "source": [
    "def clean_data(df):\n",
    "    return (\n",
    "        df\n",
    "        .drop_duplicates()\n",
    "        .rename(mapper=str.lower,axis=1)\n",
    "        .assign(**{\n",
    "            'airline': lambda df_: (\n",
    "                df_\n",
    "                .loc[:,'airline']\n",
    "                .str.replace(\" Premium economy\",\"\")\n",
    "                .str.replace(\" Business\",\"\")\n",
    "                .str.title()\n",
    "                .str.replace(\" \",\"_\")\n",
    "            ),\n",
    "            'date_of_journey': lambda df_: (\n",
    "                pd.to_datetime(df_.loc[:,'date_of_journey'],dayfirst=True)\n",
    "            ),\n",
    "            'destination': lambda df_: (\n",
    "                df_\n",
    "                .loc[:,'destination']\n",
    "                .str.replace(\"New \",\"\")\n",
    "            )\n",
    "        })\n",
    "        .drop(columns='route')\n",
    "        .rename({'dep_time':'departure_time'},axis=1)\n",
    "        .assign(**{\n",
    "            'departure_time': lambda df_: (\n",
    "                pd\n",
    "                .to_datetime(df_.loc[:,'departure_time'],format='mixed')\n",
    "                .dt.time\n",
    "            ),\n",
    "            'arrival_time': lambda df_: (\n",
    "                pd\n",
    "                .to_datetime(df_.loc[:,'arrival_time'],format='mixed')\n",
    "                .dt.time\n",
    "            )\n",
    "        })\n",
    "        .drop(index=[6474])\n",
    "        .assign(**{\n",
    "             'duration': lambda df_ : (\n",
    "                 df_\n",
    "                 .duration\n",
    "                 .pipe(duration_in_minutes)\n",
    "             ),\n",
    "            'total_stops': lambda df_: (\n",
    "                df_\n",
    "                .total_stops\n",
    "                .str.replace(\"non-stop\",\"0\")\n",
    "                .str.replace(\" stops?\",\"\",regex=True)\n",
    "                .fillna(\"0\")\n",
    "                .astype(int)\n",
    "            ),\n",
    "            'additional_info': lambda df_:(\n",
    "                df_\n",
    "                .additional_info\n",
    "                .str.replace('No info',\"No Info\")\n",
    "            )\n",
    "        }\n",
    "        )\n",
    "    )"
   ]
  },
  {
   "cell_type": "code",
   "execution_count": 31,
   "id": "4dec7863-d435-4e3b-ae35-439e52b08095",
   "metadata": {},
   "outputs": [
    {
     "data": {
      "text/html": [
       "<div>\n",
       "<style scoped>\n",
       "    .dataframe tbody tr th:only-of-type {\n",
       "        vertical-align: middle;\n",
       "    }\n",
       "\n",
       "    .dataframe tbody tr th {\n",
       "        vertical-align: top;\n",
       "    }\n",
       "\n",
       "    .dataframe thead th {\n",
       "        text-align: right;\n",
       "    }\n",
       "</style>\n",
       "<table border=\"1\" class=\"dataframe\">\n",
       "  <thead>\n",
       "    <tr style=\"text-align: right;\">\n",
       "      <th></th>\n",
       "      <th>airline</th>\n",
       "      <th>date_of_journey</th>\n",
       "      <th>source</th>\n",
       "      <th>destination</th>\n",
       "      <th>departure_time</th>\n",
       "      <th>arrival_time</th>\n",
       "      <th>duration</th>\n",
       "      <th>total_stops</th>\n",
       "      <th>additional_info</th>\n",
       "      <th>price</th>\n",
       "    </tr>\n",
       "  </thead>\n",
       "  <tbody>\n",
       "    <tr>\n",
       "      <th>0</th>\n",
       "      <td>Indigo</td>\n",
       "      <td>2019-03-24</td>\n",
       "      <td>Banglore</td>\n",
       "      <td>Delhi</td>\n",
       "      <td>22:20:00</td>\n",
       "      <td>01:10:00</td>\n",
       "      <td>170</td>\n",
       "      <td>0</td>\n",
       "      <td>No Info</td>\n",
       "      <td>3897</td>\n",
       "    </tr>\n",
       "    <tr>\n",
       "      <th>1</th>\n",
       "      <td>Air_India</td>\n",
       "      <td>2019-05-01</td>\n",
       "      <td>Kolkata</td>\n",
       "      <td>Banglore</td>\n",
       "      <td>05:50:00</td>\n",
       "      <td>13:15:00</td>\n",
       "      <td>445</td>\n",
       "      <td>2</td>\n",
       "      <td>No Info</td>\n",
       "      <td>7662</td>\n",
       "    </tr>\n",
       "    <tr>\n",
       "      <th>2</th>\n",
       "      <td>Jet_Airways</td>\n",
       "      <td>2019-06-09</td>\n",
       "      <td>Delhi</td>\n",
       "      <td>Cochin</td>\n",
       "      <td>09:25:00</td>\n",
       "      <td>04:25:00</td>\n",
       "      <td>1140</td>\n",
       "      <td>2</td>\n",
       "      <td>No Info</td>\n",
       "      <td>13882</td>\n",
       "    </tr>\n",
       "    <tr>\n",
       "      <th>3</th>\n",
       "      <td>Indigo</td>\n",
       "      <td>2019-05-12</td>\n",
       "      <td>Kolkata</td>\n",
       "      <td>Banglore</td>\n",
       "      <td>18:05:00</td>\n",
       "      <td>23:30:00</td>\n",
       "      <td>325</td>\n",
       "      <td>1</td>\n",
       "      <td>No Info</td>\n",
       "      <td>6218</td>\n",
       "    </tr>\n",
       "    <tr>\n",
       "      <th>4</th>\n",
       "      <td>Indigo</td>\n",
       "      <td>2019-03-01</td>\n",
       "      <td>Banglore</td>\n",
       "      <td>Delhi</td>\n",
       "      <td>16:50:00</td>\n",
       "      <td>21:35:00</td>\n",
       "      <td>285</td>\n",
       "      <td>1</td>\n",
       "      <td>No Info</td>\n",
       "      <td>13302</td>\n",
       "    </tr>\n",
       "    <tr>\n",
       "      <th>...</th>\n",
       "      <td>...</td>\n",
       "      <td>...</td>\n",
       "      <td>...</td>\n",
       "      <td>...</td>\n",
       "      <td>...</td>\n",
       "      <td>...</td>\n",
       "      <td>...</td>\n",
       "      <td>...</td>\n",
       "      <td>...</td>\n",
       "      <td>...</td>\n",
       "    </tr>\n",
       "    <tr>\n",
       "      <th>10678</th>\n",
       "      <td>Air_Asia</td>\n",
       "      <td>2019-04-09</td>\n",
       "      <td>Kolkata</td>\n",
       "      <td>Banglore</td>\n",
       "      <td>19:55:00</td>\n",
       "      <td>22:25:00</td>\n",
       "      <td>150</td>\n",
       "      <td>0</td>\n",
       "      <td>No Info</td>\n",
       "      <td>4107</td>\n",
       "    </tr>\n",
       "    <tr>\n",
       "      <th>10679</th>\n",
       "      <td>Air_India</td>\n",
       "      <td>2019-04-27</td>\n",
       "      <td>Kolkata</td>\n",
       "      <td>Banglore</td>\n",
       "      <td>20:45:00</td>\n",
       "      <td>23:20:00</td>\n",
       "      <td>155</td>\n",
       "      <td>0</td>\n",
       "      <td>No Info</td>\n",
       "      <td>4145</td>\n",
       "    </tr>\n",
       "    <tr>\n",
       "      <th>10680</th>\n",
       "      <td>Jet_Airways</td>\n",
       "      <td>2019-04-27</td>\n",
       "      <td>Banglore</td>\n",
       "      <td>Delhi</td>\n",
       "      <td>08:20:00</td>\n",
       "      <td>11:20:00</td>\n",
       "      <td>180</td>\n",
       "      <td>0</td>\n",
       "      <td>No Info</td>\n",
       "      <td>7229</td>\n",
       "    </tr>\n",
       "    <tr>\n",
       "      <th>10681</th>\n",
       "      <td>Vistara</td>\n",
       "      <td>2019-03-01</td>\n",
       "      <td>Banglore</td>\n",
       "      <td>Delhi</td>\n",
       "      <td>11:30:00</td>\n",
       "      <td>14:10:00</td>\n",
       "      <td>160</td>\n",
       "      <td>0</td>\n",
       "      <td>No Info</td>\n",
       "      <td>12648</td>\n",
       "    </tr>\n",
       "    <tr>\n",
       "      <th>10682</th>\n",
       "      <td>Air_India</td>\n",
       "      <td>2019-05-09</td>\n",
       "      <td>Delhi</td>\n",
       "      <td>Cochin</td>\n",
       "      <td>10:55:00</td>\n",
       "      <td>19:15:00</td>\n",
       "      <td>500</td>\n",
       "      <td>2</td>\n",
       "      <td>No Info</td>\n",
       "      <td>11753</td>\n",
       "    </tr>\n",
       "  </tbody>\n",
       "</table>\n",
       "<p>10462 rows × 10 columns</p>\n",
       "</div>"
      ],
      "text/plain": [
       "           airline date_of_journey    source destination departure_time  \\\n",
       "0           Indigo      2019-03-24  Banglore       Delhi       22:20:00   \n",
       "1        Air_India      2019-05-01   Kolkata    Banglore       05:50:00   \n",
       "2      Jet_Airways      2019-06-09     Delhi      Cochin       09:25:00   \n",
       "3           Indigo      2019-05-12   Kolkata    Banglore       18:05:00   \n",
       "4           Indigo      2019-03-01  Banglore       Delhi       16:50:00   \n",
       "...            ...             ...       ...         ...            ...   \n",
       "10678     Air_Asia      2019-04-09   Kolkata    Banglore       19:55:00   \n",
       "10679    Air_India      2019-04-27   Kolkata    Banglore       20:45:00   \n",
       "10680  Jet_Airways      2019-04-27  Banglore       Delhi       08:20:00   \n",
       "10681      Vistara      2019-03-01  Banglore       Delhi       11:30:00   \n",
       "10682    Air_India      2019-05-09     Delhi      Cochin       10:55:00   \n",
       "\n",
       "      arrival_time  duration  total_stops additional_info  price  \n",
       "0         01:10:00       170            0         No Info   3897  \n",
       "1         13:15:00       445            2         No Info   7662  \n",
       "2         04:25:00      1140            2         No Info  13882  \n",
       "3         23:30:00       325            1         No Info   6218  \n",
       "4         21:35:00       285            1         No Info  13302  \n",
       "...            ...       ...          ...             ...    ...  \n",
       "10678     22:25:00       150            0         No Info   4107  \n",
       "10679     23:20:00       155            0         No Info   4145  \n",
       "10680     11:20:00       180            0         No Info   7229  \n",
       "10681     14:10:00       160            0         No Info  12648  \n",
       "10682     19:15:00       500            2         No Info  11753  \n",
       "\n",
       "[10462 rows x 10 columns]"
      ]
     },
     "execution_count": 31,
     "metadata": {},
     "output_type": "execute_result"
    }
   ],
   "source": [
    "cleaned_data = clean_data(df)\n",
    "\n",
    "cleaned_data"
   ]
  },
  {
   "cell_type": "code",
   "execution_count": 32,
   "id": "491d4c51-6ad8-49e0-89ca-662e3a562af5",
   "metadata": {},
   "outputs": [
    {
     "data": {
      "text/plain": [
       "airline                    object\n",
       "date_of_journey    datetime64[ns]\n",
       "source                     object\n",
       "destination                object\n",
       "departure_time             object\n",
       "arrival_time               object\n",
       "duration                    int64\n",
       "total_stops                 int32\n",
       "additional_info            object\n",
       "price                       int64\n",
       "dtype: object"
      ]
     },
     "execution_count": 32,
     "metadata": {},
     "output_type": "execute_result"
    }
   ],
   "source": [
    "(\n",
    "    cleaned_data\n",
    "    .loc[:,'airline']\n",
    "    .unique()\n",
    ")\n",
    "\n",
    "cleaned_data.dtypes"
   ]
  },
  {
   "cell_type": "code",
   "execution_count": 33,
   "id": "04ea2b6d-f4dc-4ce1-a03a-27a405ba077a",
   "metadata": {},
   "outputs": [
    {
     "data": {
      "text/plain": [
       "array(['Delhi', 'Banglore', 'Cochin', 'Kolkata', 'Hyderabad'],\n",
       "      dtype=object)"
      ]
     },
     "execution_count": 33,
     "metadata": {},
     "output_type": "execute_result"
    }
   ],
   "source": [
    "(\n",
    "    cleaned_data\n",
    "    .loc[:,'destination']\n",
    "    .unique()\n",
    ")"
   ]
  },
  {
   "cell_type": "code",
   "execution_count": 34,
   "id": "9a4d5fd7-4937-44b7-90a3-9074d0bb10b7",
   "metadata": {},
   "outputs": [
    {
     "data": {
      "text/plain": [
       "False"
      ]
     },
     "execution_count": 34,
     "metadata": {},
     "output_type": "execute_result"
    }
   ],
   "source": [
    "6474 in cleaned_data.index"
   ]
  },
  {
   "cell_type": "markdown",
   "id": "f0fec133-8b50-4157-a3c5-a887a5edb27a",
   "metadata": {},
   "source": [
    "# Split the Data"
   ]
  },
  {
   "cell_type": "code",
   "execution_count": 36,
   "id": "f863ed71-7b77-4f37-a8cb-d9e1f346e710",
   "metadata": {},
   "outputs": [
    {
     "name": "stdout",
     "output_type": "stream",
     "text": [
      "The shape of training data is  (8546, 11)\n",
      "The shape of test data is  (2137, 11)\n"
     ]
    }
   ],
   "source": [
    "train_data, test_data = train_test_split(df,test_size=0.2,random_state=42)\n",
    "\n",
    "print('The shape of training data is ',train_data.shape)\n",
    "print('The shape of test data is ',test_data.shape)"
   ]
  },
  {
   "cell_type": "markdown",
   "id": "f0b145fa-7747-4a3e-bfd1-79393b6950a8",
   "metadata": {},
   "source": [
    "# Save the Data"
   ]
  },
  {
   "cell_type": "code",
   "execution_count": 38,
   "id": "5cff5773-55b7-496b-b2a1-f06300f8d1b1",
   "metadata": {},
   "outputs": [],
   "source": [
    "def save_dataframe(filename,dataframe):\n",
    "    save_path = Path(r\"D:\\Flight-Price-Prediction\\new_notebooks\\new_data\") \n",
    "    full_path = save_path / filename\n",
    "    dataframe.to_csv(full_path,index=False)"
   ]
  },
  {
   "cell_type": "code",
   "execution_count": 39,
   "id": "f535ebb0-1aa8-42b1-9fae-c79ba27c6cd7",
   "metadata": {},
   "outputs": [],
   "source": [
    "# save the train data\n",
    "\n",
    "save_dataframe(filename='train.csv',\n",
    "              dataframe=train_data)\n",
    "\n",
    "# save the test data\n",
    "save_dataframe(filename='test.csv',\n",
    "              dataframe=test_data)"
   ]
  },
  {
   "cell_type": "code",
   "execution_count": null,
   "id": "d823d3fa-8ef9-44dd-ae0c-e9a328e66ac0",
   "metadata": {},
   "outputs": [],
   "source": []
  }
 ],
 "metadata": {
  "kernelspec": {
   "display_name": "Python 3 (ipykernel)",
   "language": "python",
   "name": "python3"
  },
  "language_info": {
   "codemirror_mode": {
    "name": "ipython",
    "version": 3
   },
   "file_extension": ".py",
   "mimetype": "text/x-python",
   "name": "python",
   "nbconvert_exporter": "python",
   "pygments_lexer": "ipython3",
   "version": "3.11.8"
  }
 },
 "nbformat": 4,
 "nbformat_minor": 5
}
