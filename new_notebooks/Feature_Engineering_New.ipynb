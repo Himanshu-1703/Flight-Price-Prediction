{
 "cells": [
  {
   "cell_type": "markdown",
   "id": "b255de0d-2b51-4327-bcb6-3590b196bcde",
   "metadata": {},
   "source": [
    "# Import the Packages"
   ]
  },
  {
   "cell_type": "code",
   "execution_count": 2,
   "id": "376b02ac-0a63-4271-93cb-5da8522329dd",
   "metadata": {},
   "outputs": [],
   "source": [
    "import numpy as np\n",
    "import pandas as pd\n",
    "\n",
    "from pathlib import Path\n",
    "from sklearn.preprocessing import StandardScaler, MinMaxScaler, OneHotEncoder, FunctionTransformer\n",
    "from sklearn.pipeline import Pipeline, FeatureUnion\n",
    "from sklearn.compose import TransformedTargetRegressor, ColumnTransformer"
   ]
  },
  {
   "cell_type": "markdown",
   "id": "8c87f96c-3abf-4714-a623-c99d79617656",
   "metadata": {},
   "source": [
    "# Load the Data"
   ]
  },
  {
   "cell_type": "code",
   "execution_count": 5,
   "id": "a7179ad7-eec7-4219-b229-a9827694189a",
   "metadata": {},
   "outputs": [
    {
     "data": {
      "text/plain": [
       "'D:\\\\Flight-Price-Prediction\\\\new_notebooks'"
      ]
     },
     "execution_count": 5,
     "metadata": {},
     "output_type": "execute_result"
    }
   ],
   "source": [
    "pwd"
   ]
  },
  {
   "cell_type": "code",
   "execution_count": 6,
   "id": "466d751c-c7e6-4c9a-86ac-f2233cb7bb10",
   "metadata": {},
   "outputs": [
    {
     "data": {
      "text/html": [
       "<div>\n",
       "<style scoped>\n",
       "    .dataframe tbody tr th:only-of-type {\n",
       "        vertical-align: middle;\n",
       "    }\n",
       "\n",
       "    .dataframe tbody tr th {\n",
       "        vertical-align: top;\n",
       "    }\n",
       "\n",
       "    .dataframe thead th {\n",
       "        text-align: right;\n",
       "    }\n",
       "</style>\n",
       "<table border=\"1\" class=\"dataframe\">\n",
       "  <thead>\n",
       "    <tr style=\"text-align: right;\">\n",
       "      <th></th>\n",
       "      <th>airline</th>\n",
       "      <th>date_of_journey</th>\n",
       "      <th>source</th>\n",
       "      <th>destination</th>\n",
       "      <th>departure_time</th>\n",
       "      <th>arrival_time</th>\n",
       "      <th>duration</th>\n",
       "      <th>total_stops</th>\n",
       "      <th>additional_info</th>\n",
       "      <th>price</th>\n",
       "    </tr>\n",
       "  </thead>\n",
       "  <tbody>\n",
       "    <tr>\n",
       "      <th>0</th>\n",
       "      <td>Indigo</td>\n",
       "      <td>2019-06-15</td>\n",
       "      <td>Delhi</td>\n",
       "      <td>Cochin</td>\n",
       "      <td>05:35:00</td>\n",
       "      <td>08:50:00</td>\n",
       "      <td>195</td>\n",
       "      <td>0</td>\n",
       "      <td>No Info</td>\n",
       "      <td>5601</td>\n",
       "    </tr>\n",
       "    <tr>\n",
       "      <th>1</th>\n",
       "      <td>Jet_Airways</td>\n",
       "      <td>2019-05-09</td>\n",
       "      <td>Delhi</td>\n",
       "      <td>Cochin</td>\n",
       "      <td>10:00:00</td>\n",
       "      <td>19:00:00</td>\n",
       "      <td>540</td>\n",
       "      <td>1</td>\n",
       "      <td>No Info</td>\n",
       "      <td>15554</td>\n",
       "    </tr>\n",
       "    <tr>\n",
       "      <th>2</th>\n",
       "      <td>Spicejet</td>\n",
       "      <td>2019-05-18</td>\n",
       "      <td>Mumbai</td>\n",
       "      <td>Hyderabad</td>\n",
       "      <td>13:15:00</td>\n",
       "      <td>14:45:00</td>\n",
       "      <td>90</td>\n",
       "      <td>0</td>\n",
       "      <td>No Info</td>\n",
       "      <td>2227</td>\n",
       "    </tr>\n",
       "    <tr>\n",
       "      <th>3</th>\n",
       "      <td>Indigo</td>\n",
       "      <td>2019-05-06</td>\n",
       "      <td>Kolkata</td>\n",
       "      <td>Banglore</td>\n",
       "      <td>08:10:00</td>\n",
       "      <td>13:00:00</td>\n",
       "      <td>290</td>\n",
       "      <td>1</td>\n",
       "      <td>No Info</td>\n",
       "      <td>5069</td>\n",
       "    </tr>\n",
       "    <tr>\n",
       "      <th>4</th>\n",
       "      <td>Air_India</td>\n",
       "      <td>2019-03-21</td>\n",
       "      <td>Delhi</td>\n",
       "      <td>Cochin</td>\n",
       "      <td>23:00:00</td>\n",
       "      <td>19:15:00</td>\n",
       "      <td>1215</td>\n",
       "      <td>1</td>\n",
       "      <td>No Info</td>\n",
       "      <td>6745</td>\n",
       "    </tr>\n",
       "  </tbody>\n",
       "</table>\n",
       "</div>"
      ],
      "text/plain": [
       "       airline date_of_journey   source destination departure_time  \\\n",
       "0       Indigo      2019-06-15    Delhi      Cochin       05:35:00   \n",
       "1  Jet_Airways      2019-05-09    Delhi      Cochin       10:00:00   \n",
       "2     Spicejet      2019-05-18   Mumbai   Hyderabad       13:15:00   \n",
       "3       Indigo      2019-05-06  Kolkata    Banglore       08:10:00   \n",
       "4    Air_India      2019-03-21    Delhi      Cochin       23:00:00   \n",
       "\n",
       "  arrival_time  duration  total_stops additional_info  price  \n",
       "0     08:50:00       195            0         No Info   5601  \n",
       "1     19:00:00       540            1         No Info  15554  \n",
       "2     14:45:00        90            0         No Info   2227  \n",
       "3     13:00:00       290            1         No Info   5069  \n",
       "4     19:15:00      1215            1         No Info   6745  "
      ]
     },
     "execution_count": 6,
     "metadata": {},
     "output_type": "execute_result"
    }
   ],
   "source": [
    "# load the train data\n",
    "\n",
    "train_data_path = Path('new_data/train.csv')\n",
    "\n",
    "train_df = pd.read_csv(train_data_path)\n",
    "\n",
    "train_df.head()"
   ]
  },
  {
   "cell_type": "code",
   "execution_count": 7,
   "id": "9c9ef5d0-dd33-43c8-a67b-368409be432b",
   "metadata": {},
   "outputs": [
    {
     "data": {
      "text/html": [
       "<div>\n",
       "<style scoped>\n",
       "    .dataframe tbody tr th:only-of-type {\n",
       "        vertical-align: middle;\n",
       "    }\n",
       "\n",
       "    .dataframe tbody tr th {\n",
       "        vertical-align: top;\n",
       "    }\n",
       "\n",
       "    .dataframe thead th {\n",
       "        text-align: right;\n",
       "    }\n",
       "</style>\n",
       "<table border=\"1\" class=\"dataframe\">\n",
       "  <thead>\n",
       "    <tr style=\"text-align: right;\">\n",
       "      <th></th>\n",
       "      <th>airline</th>\n",
       "      <th>date_of_journey</th>\n",
       "      <th>source</th>\n",
       "      <th>destination</th>\n",
       "      <th>departure_time</th>\n",
       "      <th>arrival_time</th>\n",
       "      <th>duration</th>\n",
       "      <th>total_stops</th>\n",
       "      <th>additional_info</th>\n",
       "      <th>price</th>\n",
       "    </tr>\n",
       "  </thead>\n",
       "  <tbody>\n",
       "    <tr>\n",
       "      <th>0</th>\n",
       "      <td>Jet_Airways</td>\n",
       "      <td>2019-03-06</td>\n",
       "      <td>Banglore</td>\n",
       "      <td>Delhi</td>\n",
       "      <td>08:00:00</td>\n",
       "      <td>08:15:00</td>\n",
       "      <td>1455</td>\n",
       "      <td>1</td>\n",
       "      <td>No Info</td>\n",
       "      <td>17996</td>\n",
       "    </tr>\n",
       "    <tr>\n",
       "      <th>1</th>\n",
       "      <td>Spicejet</td>\n",
       "      <td>2019-06-06</td>\n",
       "      <td>Kolkata</td>\n",
       "      <td>Banglore</td>\n",
       "      <td>22:20:00</td>\n",
       "      <td>00:40:00</td>\n",
       "      <td>140</td>\n",
       "      <td>0</td>\n",
       "      <td>No Info</td>\n",
       "      <td>3873</td>\n",
       "    </tr>\n",
       "    <tr>\n",
       "      <th>2</th>\n",
       "      <td>Indigo</td>\n",
       "      <td>2019-03-18</td>\n",
       "      <td>Kolkata</td>\n",
       "      <td>Banglore</td>\n",
       "      <td>05:30:00</td>\n",
       "      <td>08:20:00</td>\n",
       "      <td>170</td>\n",
       "      <td>0</td>\n",
       "      <td>No Info</td>\n",
       "      <td>4462</td>\n",
       "    </tr>\n",
       "    <tr>\n",
       "      <th>3</th>\n",
       "      <td>Indigo</td>\n",
       "      <td>2019-06-27</td>\n",
       "      <td>Chennai</td>\n",
       "      <td>Kolkata</td>\n",
       "      <td>19:35:00</td>\n",
       "      <td>21:55:00</td>\n",
       "      <td>140</td>\n",
       "      <td>0</td>\n",
       "      <td>No Info</td>\n",
       "      <td>3597</td>\n",
       "    </tr>\n",
       "    <tr>\n",
       "      <th>4</th>\n",
       "      <td>Indigo</td>\n",
       "      <td>2019-05-06</td>\n",
       "      <td>Kolkata</td>\n",
       "      <td>Banglore</td>\n",
       "      <td>15:15:00</td>\n",
       "      <td>17:45:00</td>\n",
       "      <td>150</td>\n",
       "      <td>0</td>\n",
       "      <td>No Info</td>\n",
       "      <td>4804</td>\n",
       "    </tr>\n",
       "  </tbody>\n",
       "</table>\n",
       "</div>"
      ],
      "text/plain": [
       "       airline date_of_journey    source destination departure_time  \\\n",
       "0  Jet_Airways      2019-03-06  Banglore       Delhi       08:00:00   \n",
       "1     Spicejet      2019-06-06   Kolkata    Banglore       22:20:00   \n",
       "2       Indigo      2019-03-18   Kolkata    Banglore       05:30:00   \n",
       "3       Indigo      2019-06-27   Chennai     Kolkata       19:35:00   \n",
       "4       Indigo      2019-05-06   Kolkata    Banglore       15:15:00   \n",
       "\n",
       "  arrival_time  duration  total_stops additional_info  price  \n",
       "0     08:15:00      1455            1         No Info  17996  \n",
       "1     00:40:00       140            0         No Info   3873  \n",
       "2     08:20:00       170            0         No Info   4462  \n",
       "3     21:55:00       140            0         No Info   3597  \n",
       "4     17:45:00       150            0         No Info   4804  "
      ]
     },
     "execution_count": 7,
     "metadata": {},
     "output_type": "execute_result"
    }
   ],
   "source": [
    "# load the test data\n",
    "\n",
    "test_data_path = Path('new_data/test.csv')\n",
    "\n",
    "test_df = pd.read_csv(test_data_path)\n",
    "\n",
    "test_df.head()"
   ]
  },
  {
   "cell_type": "markdown",
   "id": "698dee41-21c8-4e65-a9cd-510a70c7b96b",
   "metadata": {},
   "source": [
    "## Check for missing values"
   ]
  },
  {
   "cell_type": "code",
   "execution_count": 8,
   "id": "cb147683-9850-42e9-9424-19973ae77825",
   "metadata": {},
   "outputs": [
    {
     "data": {
      "text/plain": [
       "airline            0\n",
       "date_of_journey    0\n",
       "source             0\n",
       "destination        0\n",
       "departure_time     0\n",
       "arrival_time       0\n",
       "duration           0\n",
       "total_stops        0\n",
       "additional_info    0\n",
       "price              0\n",
       "dtype: int64"
      ]
     },
     "execution_count": 8,
     "metadata": {},
     "output_type": "execute_result"
    }
   ],
   "source": [
    "# check in training data\n",
    "\n",
    "train_df.isna().sum()"
   ]
  },
  {
   "cell_type": "code",
   "execution_count": 9,
   "id": "79092b5f-01d2-42c6-b695-4fbea135ffd4",
   "metadata": {},
   "outputs": [
    {
     "data": {
      "text/plain": [
       "airline            0\n",
       "date_of_journey    0\n",
       "source             0\n",
       "destination        0\n",
       "departure_time     0\n",
       "arrival_time       0\n",
       "duration           0\n",
       "total_stops        0\n",
       "additional_info    0\n",
       "price              0\n",
       "dtype: int64"
      ]
     },
     "execution_count": 9,
     "metadata": {},
     "output_type": "execute_result"
    }
   ],
   "source": [
    "# check in test data\n",
    "\n",
    "test_df.isna().sum()"
   ]
  },
  {
   "cell_type": "markdown",
   "id": "88e81c10-5fc9-4b54-94ec-c1a007b69a02",
   "metadata": {},
   "source": [
    "## Check for duplicate rows"
   ]
  },
  {
   "cell_type": "code",
   "execution_count": 10,
   "id": "f39c6663-d4a2-4e67-95b2-f89ca0407b39",
   "metadata": {},
   "outputs": [
    {
     "data": {
      "text/plain": [
       "0"
      ]
     },
     "execution_count": 10,
     "metadata": {},
     "output_type": "execute_result"
    }
   ],
   "source": [
    "# check in training data\n",
    "\n",
    "train_df.duplicated().sum()"
   ]
  },
  {
   "cell_type": "code",
   "execution_count": 11,
   "id": "a75c0631-c219-48bc-b200-cfff12d4ef62",
   "metadata": {},
   "outputs": [
    {
     "data": {
      "text/plain": [
       "0"
      ]
     },
     "execution_count": 11,
     "metadata": {},
     "output_type": "execute_result"
    }
   ],
   "source": [
    "# check in test data\n",
    "\n",
    "test_df.duplicated().sum()"
   ]
  },
  {
   "cell_type": "markdown",
   "id": "c9cd8f33-8d47-4579-8647-8ee1f84f07f6",
   "metadata": {},
   "source": [
    "**There are no rows in both training and test data that contains either any missing values or any duplicate rows**"
   ]
  },
  {
   "cell_type": "markdown",
   "id": "cffdb9f9-fa3e-4d6e-b8d8-f5e6cb279bbf",
   "metadata": {},
   "source": [
    "## Data types"
   ]
  },
  {
   "cell_type": "code",
   "execution_count": 16,
   "id": "266dde30-82da-4745-8455-3450e2b1c131",
   "metadata": {},
   "outputs": [
    {
     "name": "stdout",
     "output_type": "stream",
     "text": [
      "Are the data types same in both train and test data --> True\n"
     ]
    }
   ],
   "source": [
    "list_dtypes_train = train_df.dtypes.to_list()\n",
    "\n",
    "list_dtypes_test = test_df.dtypes.to_list()\n",
    "\n",
    "print('Are the data types same in both train and test data -->',list_dtypes_train == list_dtypes_test)"
   ]
  },
  {
   "cell_type": "markdown",
   "id": "8dde7f13-a087-4f14-bfab-238ef664d143",
   "metadata": {},
   "source": [
    "**Data types of all columns are same in both the train and test data**"
   ]
  },
  {
   "cell_type": "markdown",
   "id": "b4dcb88c-783c-43ac-ac3c-d2147c0629d1",
   "metadata": {},
   "source": [
    "# Column Wise Transformations"
   ]
  },
  {
   "cell_type": "markdown",
   "id": "c89d7f19-42af-4d8d-a292-f6a24fdef620",
   "metadata": {},
   "source": [
    "## Airline"
   ]
  },
  {
   "cell_type": "code",
   "execution_count": null,
   "id": "44408181-ddcc-4153-9c3b-878033ed78a0",
   "metadata": {},
   "outputs": [],
   "source": []
  },
  {
   "cell_type": "code",
   "execution_count": null,
   "id": "525bef55-ba7e-4c01-b155-83764d1cf1d4",
   "metadata": {},
   "outputs": [],
   "source": []
  },
  {
   "cell_type": "code",
   "execution_count": null,
   "id": "a6424318-8d1f-44e9-9cfa-889c2005b955",
   "metadata": {},
   "outputs": [],
   "source": []
  },
  {
   "cell_type": "code",
   "execution_count": null,
   "id": "94137a94-08e5-4f7c-812d-d2a7a47a95c4",
   "metadata": {},
   "outputs": [],
   "source": []
  },
  {
   "cell_type": "code",
   "execution_count": null,
   "id": "5215523a-a546-40e8-b1b4-8ea5a3d44320",
   "metadata": {},
   "outputs": [],
   "source": []
  },
  {
   "cell_type": "code",
   "execution_count": null,
   "id": "b1c488e4-bed1-4480-819c-74f55d5cb302",
   "metadata": {},
   "outputs": [],
   "source": []
  },
  {
   "cell_type": "code",
   "execution_count": null,
   "id": "c02d9622-4136-4843-9a79-944d6290fa21",
   "metadata": {},
   "outputs": [],
   "source": []
  },
  {
   "cell_type": "code",
   "execution_count": null,
   "id": "b5c67621-b0b4-4821-a19c-aaf38e28e900",
   "metadata": {},
   "outputs": [],
   "source": []
  },
  {
   "cell_type": "code",
   "execution_count": null,
   "id": "f4742810-547c-4369-8c06-32bd72e6340a",
   "metadata": {},
   "outputs": [],
   "source": []
  },
  {
   "cell_type": "code",
   "execution_count": null,
   "id": "a8f9f320-85b0-4a48-9d2a-bd2b61ab6efb",
   "metadata": {},
   "outputs": [],
   "source": []
  },
  {
   "cell_type": "code",
   "execution_count": null,
   "id": "b07f320f-faa0-4134-b135-b059e8c927e5",
   "metadata": {},
   "outputs": [],
   "source": []
  },
  {
   "cell_type": "code",
   "execution_count": null,
   "id": "80551dfb-d4a9-4ba0-9900-977bdacedf6c",
   "metadata": {},
   "outputs": [],
   "source": []
  },
  {
   "cell_type": "markdown",
   "id": "2eb6ce2c-4860-49ca-8958-cfcf15375f57",
   "metadata": {},
   "source": [
    "# Single Transformer for Data"
   ]
  },
  {
   "cell_type": "code",
   "execution_count": null,
   "id": "76b5f37c-87c9-405e-9c9c-1aa653b5579a",
   "metadata": {},
   "outputs": [],
   "source": []
  }
 ],
 "metadata": {
  "kernelspec": {
   "display_name": "Python 3 (ipykernel)",
   "language": "python",
   "name": "python3"
  },
  "language_info": {
   "codemirror_mode": {
    "name": "ipython",
    "version": 3
   },
   "file_extension": ".py",
   "mimetype": "text/x-python",
   "name": "python",
   "nbconvert_exporter": "python",
   "pygments_lexer": "ipython3",
   "version": "3.11.8"
  }
 },
 "nbformat": 4,
 "nbformat_minor": 5
}
